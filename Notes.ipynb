{
 "cells": [
  {
   "cell_type": "code",
   "execution_count": 6,
   "id": "f87e554b-9474-4144-a357-4a74efa45548",
   "metadata": {},
   "outputs": [
    {
     "name": "stdout",
     "output_type": "stream",
     "text": [
      "16 2.0\n"
     ]
    }
   ],
   "source": [
    "a = 4\n",
    "b = a * a               #Normal multiplication\n",
    "c = a ** 0.5            #This is power, eg a^0.5\n",
    "print(b, c)"
   ]
  },
  {
   "cell_type": "markdown",
   "id": "1c55d95c-8d1d-42e4-a1e4-7b2fd44bb763",
   "metadata": {},
   "source": [
    "Python uses dynamic typing and it's different from other languages which are statically typed. That means you can reassign variables to different data types."
   ]
  },
  {
   "cell_type": "code",
   "execution_count": 7,
   "id": "529e6758-9118-4fbb-ad46-002ddd49d42a",
   "metadata": {},
   "outputs": [
    {
     "data": {
      "text/plain": [
       "str"
      ]
     },
     "execution_count": 7,
     "metadata": {},
     "output_type": "execute_result"
    }
   ],
   "source": [
    "b = 2.345\n",
    "c = 'fa'\n",
    "type(c)"
   ]
  },
  {
   "cell_type": "markdown",
   "id": "e98fec9b-3473-4731-9964-0bd6a5fd6f89",
   "metadata": {},
   "source": [
    "To determine the type, we use type()."
   ]
  },
  {
   "cell_type": "code",
   "execution_count": 20,
   "id": "ad81495f-4a69-4219-acba-957d8d87e9be",
   "metadata": {},
   "outputs": [
    {
     "name": "stdout",
     "output_type": "stream",
     "text": [
      "'Hello', \"Hello\"\n",
      "'Hello' \n",
      " \"Hello\"\n",
      "'Hello' \t \"Hello\"\n"
     ]
    }
   ],
   "source": [
    "my_str1 = \"'Hello'\"\n",
    "my_str2 = '\"Hello\"'\n",
    "print(my_str1 + ', ' + my_str2)\n",
    "print(my_str1, \"\\n\", my_str2)\n",
    "print(my_str1, \"\\t\", my_str2)"
   ]
  },
  {
   "cell_type": "markdown",
   "id": "f643c6fd-0445-4694-9769-62de1d3bf40b",
   "metadata": {},
   "source": [
    "To include ' we enclose the text in \" and vise versa. \\n for next line and \\t for tab space."
   ]
  },
  {
   "cell_type": "code",
   "execution_count": 22,
   "id": "14984169-41ff-45de-bbf0-b8421b6abed9",
   "metadata": {},
   "outputs": [
    {
     "data": {
      "text/plain": [
       "4"
      ]
     },
     "execution_count": 22,
     "metadata": {},
     "output_type": "execute_result"
    }
   ],
   "source": [
    "len('I am')"
   ]
  },
  {
   "cell_type": "code",
   "execution_count": 27,
   "id": "b3c47866-284b-425a-b3f3-6337b9c5cb35",
   "metadata": {},
   "outputs": [
    {
     "name": "stdout",
     "output_type": "stream",
     "text": [
      "t | i\n"
     ]
    }
   ],
   "source": [
    "ms1 = 'Testing'\n",
    "print(ms1[3], '|', ms1[-3])"
   ]
  },
  {
   "cell_type": "markdown",
   "id": "9cfcad74-671e-45ee-aa77-baf1bedde24b",
   "metadata": {},
   "source": [
    "Notice that while reverse indexing the number starts from -1."
   ]
  },
  {
   "cell_type": "code",
   "execution_count": 29,
   "id": "e1a98f11-a185-4cee-a2c0-1a47e40bbf2a",
   "metadata": {},
   "outputs": [
    {
     "name": "stdout",
     "output_type": "stream",
     "text": [
      "Tes\n"
     ]
    }
   ],
   "source": [
    "print(ms1[:3])"
   ]
  },
  {
   "cell_type": "code",
   "execution_count": 31,
   "id": "05d1cc91-5cca-4385-8ce8-2723c1af5467",
   "metadata": {},
   "outputs": [
    {
     "name": "stdout",
     "output_type": "stream",
     "text": [
      "ting\n"
     ]
    }
   ],
   "source": [
    "print(ms1[3:])"
   ]
  },
  {
   "cell_type": "code",
   "execution_count": 34,
   "id": "5e0f8423-49bc-4836-a3e6-2dd20b45061c",
   "metadata": {},
   "outputs": [
    {
     "name": "stdout",
     "output_type": "stream",
     "text": [
      "tin\n"
     ]
    }
   ],
   "source": [
    "print(ms1[3:6])"
   ]
  },
  {
   "cell_type": "code",
   "execution_count": 43,
   "id": "e3d01242-f954-4379-9628-0f9e346cb422",
   "metadata": {},
   "outputs": [
    {
     "name": "stdout",
     "output_type": "stream",
     "text": [
      "02468\n"
     ]
    }
   ],
   "source": [
    "ms2 = '0123456789'\n",
    "print(ms2[::2])"
   ]
  },
  {
   "cell_type": "code",
   "execution_count": 46,
   "id": "8ca7e31c-8d9b-4b28-9f8d-c4eba781dccc",
   "metadata": {},
   "outputs": [
    {
     "name": "stdout",
     "output_type": "stream",
     "text": [
      "246\n",
      "ceg\n"
     ]
    }
   ],
   "source": [
    "ms2 = '0123456789'\n",
    "ms3 = 'abcdefghij'\n",
    "print(ms2[2:8:2])\n",
    "print(ms3[2:8:2])"
   ]
  },
  {
   "cell_type": "markdown",
   "id": "1c064e20-f17c-4511-8472-8947b2576be1",
   "metadata": {},
   "source": [
    "Starts from 2 ('Starts from' always includes that index), till 8 ('to' doesn't include that index, so basically stops at one index before the specfied index(7 here)) and the last 2 is increment (here it increments in 2)"
   ]
  },
  {
   "cell_type": "code",
   "execution_count": 50,
   "id": "761929a7-de98-4dca-a7ab-6e0fa7770ed8",
   "metadata": {},
   "outputs": [
    {
     "name": "stdout",
     "output_type": "stream",
     "text": [
      "9876543210\n"
     ]
    }
   ],
   "source": [
    "print(ms2[::-1])"
   ]
  },
  {
   "cell_type": "markdown",
   "id": "64a728b0-27db-4919-94a9-3e0f1ccca130",
   "metadata": {},
   "source": [
    "Trick to reverse a string. Negative(-) basically reverses the increments from backwards"
   ]
  },
  {
   "cell_type": "code",
   "execution_count": 53,
   "id": "82058784-b74d-432f-a82f-fbe610843ca2",
   "metadata": {},
   "outputs": [
    {
     "data": {
      "text/plain": [
       "'aaaaaaaaaa'"
      ]
     },
     "execution_count": 53,
     "metadata": {},
     "output_type": "execute_result"
    }
   ],
   "source": [
    "a = 'a'\n",
    "a * 10"
   ]
  },
  {
   "cell_type": "code",
   "execution_count": 59,
   "id": "50779490-aa2e-4146-9cbb-5fe0b9399194",
   "metadata": {},
   "outputs": [
    {
     "data": {
      "text/plain": [
       "'A A A A A A A A A A '"
      ]
     },
     "execution_count": 59,
     "metadata": {},
     "output_type": "execute_result"
    }
   ],
   "source": [
    "(a.upper() + ' ') * 10"
   ]
  },
  {
   "cell_type": "code",
   "execution_count": 69,
   "id": "8022918b-406b-46bc-95df-9c76ca1723a9",
   "metadata": {},
   "outputs": [
    {
     "data": {
      "text/plain": [
       "['how are yo', ' d', 'de']"
      ]
     },
     "execution_count": 69,
     "metadata": {},
     "output_type": "execute_result"
    }
   ],
   "source": [
    "x = 'how are you dude'\n",
    "x.split('u')"
   ]
  },
  {
   "cell_type": "markdown",
   "id": "b896f1bf-0a16-4f5c-8b5f-1b3336276294",
   "metadata": {},
   "source": [
    "---------------------------------------------------------------------Format [below]---------------------------------------------------------------------"
   ]
  },
  {
   "cell_type": "code",
   "execution_count": 64,
   "id": "e537c0cb-176a-4d7e-9916-3fd365f6e6ac",
   "metadata": {},
   "outputs": [
    {
     "name": "stdout",
     "output_type": "stream",
     "text": [
      "My name is Pranath\n"
     ]
    }
   ],
   "source": [
    "print('My name is {}'.format('Pranath'))"
   ]
  },
  {
   "cell_type": "code",
   "execution_count": 66,
   "id": "0f5405ef-7be7-4ba1-b386-b9bb05e2be93",
   "metadata": {},
   "outputs": [
    {
     "name": "stdout",
     "output_type": "stream",
     "text": [
      "Hi are you how\n"
     ]
    }
   ],
   "source": [
    "print('Hi {} {} {}'.format('are', 'you', 'how'))"
   ]
  },
  {
   "cell_type": "code",
   "execution_count": 70,
   "id": "11821f0d-7282-4312-b715-7ace97215653",
   "metadata": {},
   "outputs": [
    {
     "name": "stdout",
     "output_type": "stream",
     "text": [
      "Hi how are you\n"
     ]
    }
   ],
   "source": [
    "print('Hi {2} {0} {1}'.format('are', 'you', 'how'))"
   ]
  },
  {
   "cell_type": "code",
   "execution_count": 72,
   "id": "c0cd09ed-37f0-4c6e-b32c-c32538e9d06f",
   "metadata": {},
   "outputs": [
    {
     "name": "stdout",
     "output_type": "stream",
     "text": [
      "Hi how how how\n"
     ]
    }
   ],
   "source": [
    "print('Hi {2} {2} {2}'.format('are', 'you', 'how'))"
   ]
  },
  {
   "cell_type": "code",
   "execution_count": 74,
   "id": "e5568cb3-335e-46e0-baa7-a0a7b86d604c",
   "metadata": {},
   "outputs": [
    {
     "name": "stdout",
     "output_type": "stream",
     "text": [
      "Hi how are you\n"
     ]
    }
   ],
   "source": [
    "print('Hi {c} {a} {b}'.format(a = 'are', b = 'you', c = 'how'))"
   ]
  },
  {
   "cell_type": "code",
   "execution_count": 85,
   "id": "164cf4fe-731e-4e9f-be17-6d3684f3ee6e",
   "metadata": {},
   "outputs": [
    {
     "name": "stdout",
     "output_type": "stream",
     "text": [
      "Your score is 97.78\n"
     ]
    }
   ],
   "source": [
    "x = 97.782340945\n",
    "print('Your score is {r:1.2f}'.format(r = x))"
   ]
  },
  {
   "cell_type": "markdown",
   "id": "7ff66ec6-f6b6-406f-b0e8-ce768474772a",
   "metadata": {},
   "source": [
    "------------------------------------------------------------------Fstring format [below]---------------------------------------------------------------"
   ]
  },
  {
   "cell_type": "code",
   "execution_count": 90,
   "id": "907b540b-e3a7-44d4-ba9f-f877cc1934c5",
   "metadata": {},
   "outputs": [
    {
     "name": "stdout",
     "output_type": "stream",
     "text": [
      "My name is Pranath\n"
     ]
    }
   ],
   "source": [
    "a = 'Pranath'\n",
    "print(f'My name is {a}')"
   ]
  },
  {
   "cell_type": "code",
   "execution_count": 95,
   "id": "5d986b1d-0bb1-4f5d-b37b-5a615d77c126",
   "metadata": {},
   "outputs": [
    {
     "name": "stdout",
     "output_type": "stream",
     "text": [
      "Hi are you how ?\n"
     ]
    }
   ],
   "source": [
    "a = 'are'\n",
    "b = 'you'\n",
    "c = 'how'\n",
    "print(f'Hi {a} {b} {c} ?')"
   ]
  },
  {
   "cell_type": "code",
   "execution_count": 98,
   "id": "7deef428-81a7-44b0-8918-a95435f38725",
   "metadata": {},
   "outputs": [
    {
     "name": "stdout",
     "output_type": "stream",
     "text": [
      "Your score is 97.78\n"
     ]
    }
   ],
   "source": [
    "x = 97.782340945\n",
    "print(f'Your score is {x:1.2f}')"
   ]
  },
  {
   "cell_type": "markdown",
   "id": "c07fdf5b-7b3a-4ee8-b265-71501b58dd0b",
   "metadata": {},
   "source": [
    "-------------------------------------------------------------------Lists [below]------------------------------------------------------------------------"
   ]
  },
  {
   "cell_type": "code",
   "execution_count": 6,
   "id": "556a6a1a-4f0e-494e-992a-b4e8b8564b6e",
   "metadata": {},
   "outputs": [
    {
     "name": "stdout",
     "output_type": "stream",
     "text": [
      "3 [2, 3.0] ['one', 3.0]\n"
     ]
    }
   ],
   "source": [
    "Ml = ['one', 2, 3.000]\n",
    "print(len(Ml[0]), Ml[1:], Ml[::2])"
   ]
  },
  {
   "cell_type": "code",
   "execution_count": 19,
   "id": "6268f2f7-207e-4691-8b4e-63fb4d79cce1",
   "metadata": {},
   "outputs": [
    {
     "name": "stdout",
     "output_type": "stream",
     "text": [
      "['one', 2, 3.0, 'four', 5.4343, 'six']\n"
     ]
    }
   ],
   "source": [
    "Ml = ['one', 2, 3.000]\n",
    "Ml0 = ['four', 5.4343, \"six\"]\n",
    "mm = Ml + Ml0\n",
    "print(mm)"
   ]
  },
  {
   "cell_type": "code",
   "execution_count": 28,
   "id": "4358041f-ce81-4716-9a38-0e056eef1a14",
   "metadata": {},
   "outputs": [
    {
     "name": "stdout",
     "output_type": "stream",
     "text": [
      "['ONE (Changed)', 2, 3.0, 'four', 5.4343, 'six', 7]\n"
     ]
    }
   ],
   "source": [
    "mm[0] = \"ONE (Changed)\"\n",
    "print(mm)"
   ]
  },
  {
   "cell_type": "markdown",
   "id": "1677725d-2a80-43f8-99e3-622b7bc0ea0b",
   "metadata": {},
   "source": [
    "You can mutate the new list, which is mm, which contains all the elements of Ml and Ml0. "
   ]
  },
  {
   "cell_type": "code",
   "execution_count": 30,
   "id": "01c44277-6146-4add-865d-1b4a49046f11",
   "metadata": {},
   "outputs": [
    {
     "name": "stdout",
     "output_type": "stream",
     "text": [
      "['ONE (Changed)', 2, 3.0, 'four', 5.4343, 'six', 7]\n"
     ]
    }
   ],
   "source": [
    "mm.append(7)\n",
    "print(mm)"
   ]
  },
  {
   "cell_type": "code",
   "execution_count": 31,
   "id": "cd3643ef-e1f3-4e09-af60-1fa10d7922ab",
   "metadata": {},
   "outputs": [
    {
     "name": "stdout",
     "output_type": "stream",
     "text": [
      "['ONE (Changed)', 2, 3.0, 'four', 5.4343, 'six']\n"
     ]
    }
   ],
   "source": [
    "mm.pop()\n",
    "print(mm)"
   ]
  },
  {
   "cell_type": "code",
   "execution_count": 38,
   "id": "948da663-1b17-4f8c-9551-f577e87a5bf7",
   "metadata": {},
   "outputs": [
    {
     "name": "stdout",
     "output_type": "stream",
     "text": [
      "[2, 'six']\n"
     ]
    }
   ],
   "source": [
    "ele = mm.pop(0)\n",
    "print(mm)"
   ]
  },
  {
   "cell_type": "code",
   "execution_count": 2,
   "id": "5f71e34c-b02f-43ff-9347-3c651b8ab9e2",
   "metadata": {},
   "outputs": [
    {
     "name": "stdout",
     "output_type": "stream",
     "text": [
      "[0, 1, 2, 3, 5, 8]\n",
      "['a', 'b', 'c', 'e', 'j', 'z']\n"
     ]
    }
   ],
   "source": [
    "nl = [3, 5, 8, 1, 2, 0]\n",
    "nl0 = ['c', 'a', 'z', 'e', 'j', 'b']\n",
    "nl.sort()\n",
    "nl0.sort()\n",
    "print(nl)\n",
    "print(nl0)"
   ]
  },
  {
   "cell_type": "markdown",
   "id": "499d3490-ffe8-4185-9a3e-03f8fd0e1a7a",
   "metadata": {},
   "source": [
    "This sort's inplace"
   ]
  },
  {
   "cell_type": "code",
   "execution_count": 3,
   "id": "aa902b62-056f-4362-8a8c-3c7426180609",
   "metadata": {},
   "outputs": [
    {
     "name": "stdout",
     "output_type": "stream",
     "text": [
      "[8, 5, 3, 2, 1, 0]\n"
     ]
    }
   ],
   "source": [
    "nl.reverse()\n",
    "print(nl)"
   ]
  },
  {
   "cell_type": "markdown",
   "id": "82b23ab0-63bc-455a-9dfc-08ec0acf3cc2",
   "metadata": {},
   "source": [
    "------------------------------------------------------------------Dictionaries------------------------------------------------------------------------- "
   ]
  },
  {
   "cell_type": "code",
   "execution_count": 25,
   "id": "e3278ed8-04b1-4441-a951-22c31f30964d",
   "metadata": {},
   "outputs": [
    {
     "name": "stdout",
     "output_type": "stream",
     "text": [
      "v1\n"
     ]
    }
   ],
   "source": [
    "md = {'k1' : 'v1', 'k2' : 'v2'}\n",
    "print(md['k1'])"
   ]
  },
  {
   "cell_type": "code",
   "execution_count": 20,
   "id": "7dfcb8c3-cee9-4b96-b0d9-ef760daae1d2",
   "metadata": {},
   "outputs": [
    {
     "name": "stdout",
     "output_type": "stream",
     "text": [
      "5 7\n"
     ]
    }
   ],
   "source": [
    "md0 = {'k1' : 1, 'k2' : 'two', 'k3' : 3.14, 'k4' : [4, 5, 6], 'k5' : {'a':7, 'b':8}, 'k6' : ['m', 'n', 'o', 'p']}\n",
    "x = md0['k4'][1]     #to grab an element from a list that is inside of a dictionary\n",
    "y = md0['k5']['a']   #to grab an item from a dictionary using it's key that is inside of a dictionary \n",
    "print(x, y)"
   ]
  },
  {
   "cell_type": "code",
   "execution_count": 23,
   "id": "b6a14d9f-a6dd-42c3-959d-57fb4ec1c256",
   "metadata": {},
   "outputs": [
    {
     "name": "stdout",
     "output_type": "stream",
     "text": [
      "P\n"
     ]
    }
   ],
   "source": [
    "print(md0['k6'][3].upper())"
   ]
  },
  {
   "cell_type": "code",
   "execution_count": 25,
   "id": "40aa69d2-47db-4232-8cc0-73e966477abb",
   "metadata": {},
   "outputs": [
    {
     "name": "stdout",
     "output_type": "stream",
     "text": [
      "{'k1': 1, 'k2': 'two', 'k3': 3.14, 'k4': [4, 5, 6], 'k5': {'a': 7, 'b': 8}, 'k6': ['m', 'n', 'o', 'p'], 'k7': 'adding'}\n"
     ]
    }
   ],
   "source": [
    "md0['k7'] = 'adding' #adding new key value pair to existing list.\n",
    "print(md0)"
   ]
  },
  {
   "cell_type": "code",
   "execution_count": 26,
   "id": "2a63b5e5-b73a-4117-bd44-e0d5b160dc43",
   "metadata": {},
   "outputs": [
    {
     "name": "stdout",
     "output_type": "stream",
     "text": [
      "{'k1': 'ONE1', 'k2': 'two', 'k3': 3.14, 'k4': [4, 5, 6], 'k5': {'a': 7, 'b': 8}, 'k6': ['m', 'n', 'o', 'p'], 'k7': 'adding'}\n"
     ]
    }
   ],
   "source": [
    "md0['k1'] = 'ONE1' #altering the value of the existing key of a dictionary\n",
    "print(md0)"
   ]
  },
  {
   "cell_type": "code",
   "execution_count": 28,
   "id": "7c2c3650-645d-4c0a-ae1c-12d22716bf47",
   "metadata": {},
   "outputs": [
    {
     "name": "stdout",
     "output_type": "stream",
     "text": [
      "dict_keys(['k1', 'k2', 'k3', 'k4', 'k5', 'k6', 'k7'])\n"
     ]
    }
   ],
   "source": [
    "#To retrieve only the keys we use\n",
    "print(md0.keys())"
   ]
  },
  {
   "cell_type": "code",
   "execution_count": 30,
   "id": "5edd25f5-fe1f-4e8a-a746-eb6bbf245620",
   "metadata": {},
   "outputs": [
    {
     "name": "stdout",
     "output_type": "stream",
     "text": [
      "dict_values(['ONE1', 'two', 3.14, [4, 5, 6], {'a': 7, 'b': 8}, ['m', 'n', 'o', 'p'], 'adding'])\n"
     ]
    }
   ],
   "source": [
    "#To retrieve only the values we use\n",
    "print(md0.values())"
   ]
  },
  {
   "cell_type": "code",
   "execution_count": 31,
   "id": "7bb0271c-1f6d-41f7-a6f1-2ba3ef2d4b19",
   "metadata": {},
   "outputs": [
    {
     "name": "stdout",
     "output_type": "stream",
     "text": [
      "dict_items([('k1', 'ONE1'), ('k2', 'two'), ('k3', 3.14), ('k4', [4, 5, 6]), ('k5', {'a': 7, 'b': 8}), ('k6', ['m', 'n', 'o', 'p']), ('k7', 'adding')])\n"
     ]
    }
   ],
   "source": [
    "#To retrieve the pairs of key/values we use\n",
    "print(md0.items())"
   ]
  },
  {
   "cell_type": "markdown",
   "id": "83ef85a9-17d1-4233-8bfc-fca135b58046",
   "metadata": {},
   "source": [
    "--------------------------------------------------------------------------Touples----------------------------------------------------------------------"
   ]
  },
  {
   "cell_type": "code",
   "execution_count": 33,
   "id": "0a17c580-d546-4aad-98a3-6f5398908a32",
   "metadata": {},
   "outputs": [
    {
     "name": "stdout",
     "output_type": "stream",
     "text": [
      "<class 'list'> <class 'tuple'> <class 'dict'>\n"
     ]
    }
   ],
   "source": [
    "                                                     #Lists are [], Touples are (), Dictionaries are {}\n",
    "L = [1, 2, 3]\n",
    "T = (1, 2, 3)\n",
    "D = {'1':1, '2':2, '3':3}\n",
    "print(type(L), type(T), type(D))"
   ]
  },
  {
   "cell_type": "markdown",
   "id": "ccc73510-7515-4e97-b30d-80a935da6dec",
   "metadata": {},
   "source": [
    "Touples are immutable, once the values are assigned, it cannot be changed/altered"
   ]
  },
  {
   "cell_type": "code",
   "execution_count": 38,
   "id": "d50c9d63-d3e4-4e79-8d1f-d20f85441c42",
   "metadata": {},
   "outputs": [
    {
     "name": "stdout",
     "output_type": "stream",
     "text": [
      "2 0\n"
     ]
    }
   ],
   "source": [
    "a = ('a', 'a', 'b', 'v', 'c')\n",
    "print(a.count('a'), a.index('a'))            #Index is the very first occurence of that element."
   ]
  },
  {
   "cell_type": "markdown",
   "id": "93572a68-36e2-4d2e-b561-b4f123a52094",
   "metadata": {},
   "source": [
    "-----------------------------------------------------------------------------Sets----------------------------------------------------------------------"
   ]
  },
  {
   "cell_type": "markdown",
   "id": "13f62e76-caa1-47dd-b9e2-7e1c3fa2f074",
   "metadata": {},
   "source": [
    "Notes: \n",
    "Lists/Touples are ordered collection of elements\n",
    "Dictionaries are unordered collections of elements\n",
    "Sets are ordered collections of unique elements"
   ]
  },
  {
   "cell_type": "code",
   "execution_count": 43,
   "id": "b71c1cbd-3bd3-4870-bbe5-34f7ed71a52d",
   "metadata": {},
   "outputs": [
    {
     "name": "stdout",
     "output_type": "stream",
     "text": [
      "{1}\n"
     ]
    }
   ],
   "source": [
    "ms = set()\n",
    "ms.add(1)\n",
    "print(ms)"
   ]
  },
  {
   "cell_type": "code",
   "execution_count": 45,
   "id": "c420e4af-7865-495b-a35a-1bde6c1dc8a6",
   "metadata": {},
   "outputs": [
    {
     "name": "stdout",
     "output_type": "stream",
     "text": [
      "{1, 2}\n"
     ]
    }
   ],
   "source": [
    "ms.add(2)\n",
    "print(ms)"
   ]
  },
  {
   "cell_type": "code",
   "execution_count": 47,
   "id": "d702f0b8-808f-47e4-b898-63dd6f0e7bb5",
   "metadata": {},
   "outputs": [
    {
     "name": "stdout",
     "output_type": "stream",
     "text": [
      "{1, 2}\n"
     ]
    }
   ],
   "source": [
    "ms.add(2)                  #Adding the value that is already present in the set won't repeat it\n",
    "print(ms)"
   ]
  },
  {
   "cell_type": "code",
   "execution_count": 48,
   "id": "8611f09c-b240-4188-9793-b72d118fd5e3",
   "metadata": {},
   "outputs": [
    {
     "name": "stdout",
     "output_type": "stream",
     "text": [
      "{1, 2, 3}\n"
     ]
    }
   ],
   "source": [
    "list = [1,1,1,1,1,1,1,2,2,2,2,2,2,2,2,2,3,3,3,3,3,3,3,3,3]\n",
    "Set = set(list)\n",
    "print(Set)"
   ]
  },
  {
   "cell_type": "markdown",
   "id": "b8a6848a-07c4-4dd4-aa0b-ae176374a653",
   "metadata": {},
   "source": [
    "The set might not return the same order that is present in the list, since we have less items here it returned the same order otherwise it wouldn't have."
   ]
  },
  {
   "cell_type": "code",
   "execution_count": 49,
   "id": "0af59078-5d27-448c-ba0c-040cc2dee634",
   "metadata": {},
   "outputs": [
    {
     "name": "stdout",
     "output_type": "stream",
     "text": [
      "{'n', 't', 'h', 'r', 'a', 'P'}\n"
     ]
    }
   ],
   "source": [
    "letters = set('Pranath')\n",
    "print(letters)"
   ]
  },
  {
   "cell_type": "markdown",
   "id": "eb0a08fc-fbaa-4cf0-8f21-43f13f7ef977",
   "metadata": {},
   "source": [
    "As you can notice the order isn't same and the repeated letters are not repeated in the set. This can be a trick to retrieve the unique letters from a word"
   ]
  },
  {
   "cell_type": "markdown",
   "id": "b01befb9-08d4-4c7f-bbdc-3f528cc8482e",
   "metadata": {},
   "source": [
    "-------------------------------------------------------------------------Files--------------------------------------------------------------------------"
   ]
  },
  {
   "cell_type": "markdown",
   "id": "b2982a79-bb50-434c-998e-7355848cb36c",
   "metadata": {},
   "source": [
    " %%writefile only works in Jupyter Notebook"
   ]
  },
  {
   "cell_type": "code",
   "execution_count": 100,
   "id": "578daa04-cdf6-47b5-b232-780f3b33bca0",
   "metadata": {},
   "outputs": [
    {
     "name": "stdout",
     "output_type": "stream",
     "text": [
      "Overwriting egfile.txt\n"
     ]
    }
   ],
   "source": [
    "%%writefile egfile.txt\n",
    "Hey yo, this is my file\n",
    "This is my file only in 2nd line\n",
    "This is my file only in 3rd line"
   ]
  },
  {
   "cell_type": "code",
   "execution_count": 58,
   "id": "3c6b4d58-e733-4eff-820c-42616750e9e0",
   "metadata": {},
   "outputs": [
    {
     "data": {
      "text/plain": [
       "'C:\\\\Users\\\\CSP\\\\Desktop\\\\Python'"
      ]
     },
     "execution_count": 58,
     "metadata": {},
     "output_type": "execute_result"
    }
   ],
   "source": [
    "pwd"
   ]
  },
  {
   "cell_type": "code",
   "execution_count": 60,
   "id": "2bf15e4c-fa9d-434e-8f07-bf2f02d99aaa",
   "metadata": {},
   "outputs": [
    {
     "name": "stdout",
     "output_type": "stream",
     "text": [
      "Hey yo, this is my file\n",
      "This is my file only in 2nd line\n",
      "This is my file only in 3rd line\n",
      "\n"
     ]
    }
   ],
   "source": [
    "F = open('egfile.txt')\n",
    "print(F.read())"
   ]
  },
  {
   "cell_type": "code",
   "execution_count": 62,
   "id": "22140f30-614c-4389-9162-8072a7b1c83a",
   "metadata": {},
   "outputs": [
    {
     "name": "stdout",
     "output_type": "stream",
     "text": [
      "\n"
     ]
    }
   ],
   "source": [
    "print(F.read())"
   ]
  },
  {
   "cell_type": "markdown",
   "id": "0974160e-6be0-457d-8360-124b84053282",
   "metadata": {},
   "source": [
    "Now there's nothing visible when you try to read the file for the second time, it is because the cursor is at the end of the file, you have to reset it to the start in order to read the file again."
   ]
  },
  {
   "cell_type": "code",
   "execution_count": 64,
   "id": "e10675cc-f4be-476b-8922-c02a96a5032c",
   "metadata": {},
   "outputs": [
    {
     "name": "stdout",
     "output_type": "stream",
     "text": [
      "Hey yo, this is my file\n",
      "This is my file only in 2nd line\n",
      "This is my file only in 3rd line\n",
      "\n"
     ]
    }
   ],
   "source": [
    "F.seek(0)                      #Seek helps you go to a certain point in the file\n",
    "print(F.read())"
   ]
  },
  {
   "cell_type": "code",
   "execution_count": 66,
   "id": "20381f15-83ba-4f3c-affa-d7a599101a47",
   "metadata": {},
   "outputs": [
    {
     "name": "stdout",
     "output_type": "stream",
     "text": [
      "['Hey yo, this is my file\\n', 'This is my file only in 2nd line\\n', 'This is my file only in 3rd line\\n']\n"
     ]
    }
   ],
   "source": [
    "F.seek(0)\n",
    "List = F.readlines()          #This converts each lines of the file into the elements of the lists\n",
    "print(List)"
   ]
  },
  {
   "cell_type": "code",
   "execution_count": 69,
   "id": "e5a29468-d0e5-4fd8-9c9a-889ea1cb2d93",
   "metadata": {},
   "outputs": [
    {
     "name": "stdout",
     "output_type": "stream",
     "text": [
      "Mood board\n",
      "Users login\n",
      "add zendesk for queries to this feature.\n",
      "Anonymity at it's peak.\n",
      "Immidiet sos posh.\n"
     ]
    }
   ],
   "source": [
    "G = open(\"C:\\\\Users\\\\CSP\\\\OneDrive\\\\zd-mb.txt\")\n",
    "print(G.read())"
   ]
  },
  {
   "cell_type": "markdown",
   "id": "37e67b4f-88bf-4608-94a2-b9bf443f0c68",
   "metadata": {},
   "source": [
    "Now that the file egfile.txt or zd-mb.txt files are open or used here, when you try to delete these files it might say that the file is being used somewhere or open in order to erradicate these type of problems we can do any of the following things"
   ]
  },
  {
   "cell_type": "code",
   "execution_count": 71,
   "id": "7e646645-7bce-481d-af08-eb675f60b3e8",
   "metadata": {},
   "outputs": [],
   "source": [
    "#First type\n",
    "G.close()\n",
    "F.close()"
   ]
  },
  {
   "cell_type": "code",
   "execution_count": 76,
   "id": "da0541a5-bf2a-4981-90de-22c995e0ef91",
   "metadata": {},
   "outputs": [
    {
     "name": "stdout",
     "output_type": "stream",
     "text": [
      "Hey yo, this is my file\n",
      "This is my file only in 2nd line\n",
      "This is my file only in 3rd line\n",
      "\n",
      "['Hey yo, this is my file\\n', 'This is my file only in 2nd line\\n', 'This is my file only in 3rd line\\n']\n"
     ]
    }
   ],
   "source": [
    "#Second type: this should be done at the beginning, so you are basically assigning the file to a variable and using it.\n",
    "with open('egfile.txt') as var_file:\n",
    "    contents = var_file.read()\n",
    "    var_file.seek(0)\n",
    "    contents0 = var_file.readlines()\n",
    "print(contents)\n",
    "print(contents0)"
   ]
  },
  {
   "cell_type": "markdown",
   "id": "ef80f548-33eb-487f-ae05-92575e9b2314",
   "metadata": {},
   "source": [
    "Modes [Click shift+tab to get the suggestion]"
   ]
  },
  {
   "cell_type": "code",
   "execution_count": 101,
   "id": "a6e2d8f7-8314-4e13-987a-3f6c423744d4",
   "metadata": {},
   "outputs": [],
   "source": [
    "with open('egfile.txt', mode = 'a') as x:\n",
    "    contents = x.write('This is my file only in 4th line')"
   ]
  },
  {
   "cell_type": "code",
   "execution_count": 102,
   "id": "5ea7befc-08c8-4aea-ad7d-aedff5f34be6",
   "metadata": {},
   "outputs": [
    {
     "name": "stdout",
     "output_type": "stream",
     "text": [
      "Hey yo, this is my file\n",
      "This is my file only in 2nd line\n",
      "This is my file only in 3rd line\n",
      "This is my file only in 4th line\n"
     ]
    }
   ],
   "source": [
    "with open('egfile.txt', mode = 'r') as y:\n",
    "    yo = y.read()\n",
    "    print(yo)"
   ]
  },
  {
   "cell_type": "code",
   "execution_count": 104,
   "id": "df20f7c6-9851-475b-8da3-ae24073bb873",
   "metadata": {},
   "outputs": [
    {
     "name": "stdout",
     "output_type": "stream",
     "text": [
      "Hey yo, this is my file\n",
      "This is my file only in 2nd line\n",
      "This is my file only in 3rd line\n",
      "This is my file only in 4th line\n",
      "This is my file only in 5th line\n",
      "This is my file only in 5th line\n"
     ]
    }
   ],
   "source": [
    "#If you want to append and read simultaneously you can use '+' in mode, here's the exampe of the same\n",
    "with open('egfile.txt', mode='a+') as test:\n",
    "    test.write('\\nThis is my file only in 5th line')\n",
    "    test.seek(0)\n",
    "    r = test.read()\n",
    "print(r)"
   ]
  },
  {
   "cell_type": "code",
   "execution_count": 1,
   "id": "46fdb67e-06e6-4ab0-8ff6-318e51d88978",
   "metadata": {},
   "outputs": [
    {
     "name": "stdout",
     "output_type": "stream",
     "text": [
      "This is the new file I've created\n"
     ]
    }
   ],
   "source": [
    "#Using write(w) mode let's you either truncate the existing file and write the new stuff or create a new file and write on it if the file dosen't exist.\n",
    "with open('egwritefile.txt', mode = 'w+') as ho:\n",
    "    ho.write(\"This is the new file I've created\")\n",
    "    ho.seek(0)\n",
    "    v = ho.read()\n",
    "    print(v)"
   ]
  },
  {
   "cell_type": "markdown",
   "id": "97240247-51c6-4193-b7c7-45b81263c836",
   "metadata": {},
   "source": [
    "----------------------------------------------------------------------Loops-------------------------------------------------------------"
   ]
  },
  {
   "cell_type": "code",
   "execution_count": 4,
   "id": "6fa377e9-8790-404d-bded-aed0f802918f",
   "metadata": {},
   "outputs": [
    {
     "name": "stdout",
     "output_type": "stream",
     "text": [
      "1\n",
      "2\n",
      "3\n",
      "4\n"
     ]
    }
   ],
   "source": [
    "ls = [1, 2, 3, 4]\n",
    "for i in ls:\n",
    "    print(i)"
   ]
  },
  {
   "cell_type": "code",
   "execution_count": 6,
   "id": "e6660019-7645-4b30-9651-d68333224e56",
   "metadata": {},
   "outputs": [
    {
     "name": "stdout",
     "output_type": "stream",
     "text": [
      "odd\n",
      "2\n",
      "odd\n",
      "4\n"
     ]
    }
   ],
   "source": [
    "for i in ls:\n",
    "    if i % 2 == 0:\n",
    "        print(i)\n",
    "    else: \n",
    "        print('odd')"
   ]
  },
  {
   "cell_type": "code",
   "execution_count": 7,
   "id": "602d54de-9c6e-452b-9266-8a9d7345c5fe",
   "metadata": {},
   "outputs": [
    {
     "name": "stdout",
     "output_type": "stream",
     "text": [
      "1\n",
      "2\n",
      "3\n",
      "4\n",
      "5\n",
      "6\n",
      "7\n",
      "8\n",
      "9\n",
      "0\n"
     ]
    }
   ],
   "source": [
    "ls = [(1,2),(3,4),(5,6),(7,8),(9,0)]   #Touple hacking\n",
    "for (a, b) in ls:\n",
    "    print(a)\n",
    "    print(b)"
   ]
  },
  {
   "cell_type": "code",
   "execution_count": 15,
   "id": "33db4a96-343c-4dc0-bd69-1b149720407b",
   "metadata": {},
   "outputs": [
    {
     "name": "stdout",
     "output_type": "stream",
     "text": [
      "k1 - v1\n",
      "k2 - v2\n",
      "k3 - v3\n"
     ]
    }
   ],
   "source": [
    "md = {'k1' : 'v1', 'k2' : 'v2', 'k3' : 'v3'}\n",
    "for a, b in md.items():\n",
    "    print(a, '-', b)"
   ]
  },
  {
   "cell_type": "code",
   "execution_count": 1,
   "id": "fc537bd7-6520-4029-b77b-ba645f14f2e2",
   "metadata": {},
   "outputs": [
    {
     "name": "stdout",
     "output_type": "stream",
     "text": [
      "Tic Tic 1\n",
      "Tic Tic 2\n",
      "Tic Tic 3\n",
      "Tic Tic 4\n",
      "Tic Tic 5\n"
     ]
    }
   ],
   "source": [
    "x = 0\n",
    "while x < 5:\n",
    "    print(f'Tic Tic {x+1}')\n",
    "    x += 1"
   ]
  },
  {
   "cell_type": "code",
   "execution_count": 2,
   "id": "6be9c60f-e415-4fab-99f0-5e3f2986a83a",
   "metadata": {},
   "outputs": [
    {
     "name": "stdout",
     "output_type": "stream",
     "text": [
      "1\n",
      "2\n",
      "c\n"
     ]
    }
   ],
   "source": [
    "x = [1,2,3,4,5]\n",
    "for i in x:\n",
    "    if i == 3:\n",
    "        print('c')\n",
    "        break\n",
    "        # continue\n",
    "    print(i)"
   ]
  },
  {
   "cell_type": "markdown",
   "id": "efd26b04-bcf9-4f0b-80d7-ce2dbba69a7d",
   "metadata": {},
   "source": [
    "Use either break or continue in the above cell to understand how each of them works"
   ]
  },
  {
   "cell_type": "markdown",
   "id": "42623e1e-efe6-4f6a-8c2f-5384b82427b0",
   "metadata": {},
   "source": [
    "for i in range('start', 'stop', 'increments') is the set of parameters that go in."
   ]
  },
  {
   "cell_type": "code",
   "execution_count": 10,
   "id": "b705661e-953f-4c61-be5e-360ab72c39d8",
   "metadata": {},
   "outputs": [
    {
     "name": "stdout",
     "output_type": "stream",
     "text": [
      "0\n",
      "2\n",
      "4\n",
      "6\n",
      "8\n",
      "10\n"
     ]
    }
   ],
   "source": [
    "for i in range(0, 11, 2):\n",
    "    print(i)"
   ]
  },
  {
   "cell_type": "markdown",
   "id": "a4f3b3cb-d76a-4464-ae1b-c65f98dcb592",
   "metadata": {},
   "source": [
    "-----------------------------------------------------------------------Enumarate------------------------------------------------------------------------"
   ]
  },
  {
   "cell_type": "code",
   "execution_count": 13,
   "id": "c8b7fd8b-d099-4310-a57b-b53fd20d8cca",
   "metadata": {},
   "outputs": [
    {
     "name": "stdout",
     "output_type": "stream",
     "text": [
      "(0, 'W')\n",
      "(1, 'o')\n",
      "(2, 'r')\n",
      "(3, 'd')\n",
      "(4, 's')\n",
      "(5, 'h')\n",
      "(6, 'i')\n",
      "(7, 't')\n"
     ]
    }
   ],
   "source": [
    "for i in enumerate('Wordshit'):\n",
    "    print(i)"
   ]
  },
  {
   "cell_type": "code",
   "execution_count": 15,
   "id": "9e81ac61-cb27-4ff1-87ad-8bc2e980d212",
   "metadata": {},
   "outputs": [
    {
     "name": "stdout",
     "output_type": "stream",
     "text": [
      "0 - W\n",
      "1 - o\n",
      "2 - r\n",
      "3 - d\n",
      "4 - s\n"
     ]
    }
   ],
   "source": [
    "for a, b in enumerate('Words'):\n",
    "    print(a, '-', b)"
   ]
  },
  {
   "cell_type": "markdown",
   "id": "7d0c1e50-303d-4501-8513-da9c4e3efe16",
   "metadata": {},
   "source": [
    "------------------------------------------------------------------------Zip-----------------------------------------------------------------------------"
   ]
  },
  {
   "cell_type": "code",
   "execution_count": 49,
   "id": "4d748c84-17a0-494a-bb29-83241d0d8e34",
   "metadata": {},
   "outputs": [
    {
     "name": "stdout",
     "output_type": "stream",
     "text": [
      "<zip object at 0x000001E4BF72CE40>\n",
      "[(1, 'cat', (1.1, 1.2)), (1, 'mat', (2.1, 2.2)), (3, 'bat', (3.1, 3.2))]\n"
     ]
    }
   ],
   "source": [
    "# Zip as the name suggests, is used to map/connect two or more lists\n",
    "a = [1, 1, 3, 4, 4]\n",
    "b = ['cat', 'mat', 'bat']\n",
    "c = [(1.1, 1.2), (2.1, 2.2), (3.1, 3.2)]\n",
    "print(zip(a, b, c))                                    #location in the memory where the zip values are stored\n",
    "print(list(zip(a, b, c)))                              #list of the zip values stored"
   ]
  },
  {
   "cell_type": "code",
   "execution_count": 40,
   "id": "ceb9de8f-f678-4806-8341-dd2f366b52ee",
   "metadata": {},
   "outputs": [
    {
     "data": {
      "text/plain": [
       "True"
      ]
     },
     "execution_count": 40,
     "metadata": {},
     "output_type": "execute_result"
    }
   ],
   "source": [
    "myd = {1:1, 'b':2, 'c':3}\n",
    "1 in myd                   #important thing, to check if the key and value is same in any dictionary, we can use this"
   ]
  },
  {
   "cell_type": "code",
   "execution_count": 53,
   "id": "8fc1c339-586e-4241-92a0-4adaaaef2aef",
   "metadata": {},
   "outputs": [
    {
     "name": "stdout",
     "output_type": "stream",
     "text": [
      "1 is the minimum and 4 is the maximum no.\n"
     ]
    }
   ],
   "source": [
    "#Min and Max fucntions\n",
    "e = min(a)\n",
    "f = max(a)\n",
    "print(f'{e} is the minimum and {f} is the maximum no.')"
   ]
  },
  {
   "cell_type": "code",
   "execution_count": 61,
   "id": "8ddc6a48-1dbf-414a-9d55-a9b0d758562f",
   "metadata": {},
   "outputs": [
    {
     "name": "stdout",
     "output_type": "stream",
     "text": [
      "<class 'NoneType'>\n",
      "[3, 8, 2, 4, 9, 1, 6, 5, 7, 10]\n"
     ]
    }
   ],
   "source": [
    "from random import shuffle as s\n",
    "e = [1,2,3,4,5,6,7,8,9,10]\n",
    "s(e)\n",
    "print(type(s(e)))\n",
    "print(e)"
   ]
  },
  {
   "cell_type": "markdown",
   "id": "54eeba40-261b-4e95-8079-18219e121470",
   "metadata": {},
   "source": [
    "The shuffle happens inplace, so even if you see it's type, it says none. So it dosen't return anything."
   ]
  },
  {
   "cell_type": "code",
   "execution_count": 63,
   "id": "d7b9518f-276e-4148-a374-929a408dab41",
   "metadata": {},
   "outputs": [
    {
     "name": "stdout",
     "output_type": "stream",
     "text": [
      "1\n"
     ]
    }
   ],
   "source": [
    "from random import randint as r\n",
    "a = r(0, 9)     #Min and max numbers as the parameters\n",
    "print(a - 5)"
   ]
  },
  {
   "cell_type": "code",
   "execution_count": 66,
   "id": "af2ab05c-81a3-42b3-97e1-24a466af21c7",
   "metadata": {},
   "outputs": [
    {
     "name": "stdin",
     "output_type": "stream",
     "text": [
      "Enter your ting\n",
      " 23\n"
     ]
    },
    {
     "name": "stdout",
     "output_type": "stream",
     "text": [
      "23\n",
      "<class 'str'>\n"
     ]
    }
   ],
   "source": [
    "res = input('Enter your ting\\n')\n",
    "print(res)\n",
    "print(type(res))\n",
    "# NOTE: the input always takes any values given as a string, you need to typecast if your want to change it's datatype."
   ]
  },
  {
   "cell_type": "markdown",
   "id": "7055c709-cbbd-4659-94a3-c90a3f18bb22",
   "metadata": {},
   "source": [
    "-------------------------------------------------------------------List comprehension-------------------------------------------------------------------"
   ]
  },
  {
   "cell_type": "code",
   "execution_count": 8,
   "id": "65e8c20a-ccf5-4dc9-a3f6-7c2d7f4832e0",
   "metadata": {},
   "outputs": [
    {
     "name": "stdout",
     "output_type": "stream",
     "text": [
      "['M', 'y', ' ', 'w', 'o', 'r', 'd', 'l', 'o', 'u', 'd'] \n",
      " [1, 4, 9, 16, 25, 36, 49, 64, 81, 100]\n"
     ]
    }
   ],
   "source": [
    "a = 'My wordloud'\n",
    "alist = [letters for letters in a]                      #By not using a variable to iterate through string and add it to the list\n",
    "blist = [num**2 for num in range(1, 11)]\n",
    "print(alist, '\\n', blist)"
   ]
  },
  {
   "cell_type": "code",
   "execution_count": 11,
   "id": "9647d8af-c5a8-46f1-b528-2a088645e368",
   "metadata": {},
   "outputs": [
    {
     "name": "stdout",
     "output_type": "stream",
     "text": [
      "[0, 4, 16, 36, 64, 100]\n"
     ]
    }
   ],
   "source": [
    "even = [e**2 for e in range(0, 11) if e%2 == 0]               #Complex eg using if\n",
    "print(even)"
   ]
  },
  {
   "cell_type": "code",
   "execution_count": 14,
   "id": "986c5f90-3f98-467e-b52a-1a87683f6162",
   "metadata": {},
   "outputs": [
    {
     "name": "stdout",
     "output_type": "stream",
     "text": [
      "[0, 69, 2, 69, 4, 69, 6, 69, 8, 69, 10]\n"
     ]
    }
   ],
   "source": [
    "#using if else in the above example\n",
    "even = [e if e%2 == 0 else 69 for e in range(0, 11)]\n",
    "print(even)"
   ]
  },
  {
   "cell_type": "code",
   "execution_count": 20,
   "id": "eed4be47-b363-4b5d-bc24-5cd03b32cdc2",
   "metadata": {},
   "outputs": [
    {
     "name": "stdout",
     "output_type": "stream",
     "text": [
      "[1, 10, 100, 2, 20, 200, 3, 30, 300]\n"
     ]
    }
   ],
   "source": [
    "#---------------------------------------------------Nested for loop--------------------------------------------\n",
    "a = [1, 2, 3]\n",
    "b = [1, 10, 100]\n",
    "c = []\n",
    "for i in a:\n",
    "    for j in b:\n",
    "        c.append(i*j)\n",
    "print(c)"
   ]
  },
  {
   "cell_type": "code",
   "execution_count": 26,
   "id": "a8173ea7-b085-4ca1-aebe-836bcf620b8f",
   "metadata": {},
   "outputs": [
    {
     "name": "stdout",
     "output_type": "stream",
     "text": [
      "[1, 10, 100, 2, 20, 200, 3, 30, 300]\n"
     ]
    }
   ],
   "source": [
    "#The above example in complex and oneliner\n",
    "c = [i*j for i in a for j in b]\n",
    "print(c)"
   ]
  },
  {
   "cell_type": "markdown",
   "id": "343c50cc-ba8e-4e32-85c2-06424e523791",
   "metadata": {},
   "source": [
    "-----------------------------------------------------------------Method & Functions---------------------------------------------------------------------"
   ]
  },
  {
   "cell_type": "markdown",
   "id": "a48ae343-b31c-4559-99ba-40e4899ff020",
   "metadata": {},
   "source": [
    "Hint: use shift+tab or use the help() function to understand the built in function."
   ]
  },
  {
   "cell_type": "code",
   "execution_count": 76,
   "id": "ee5a7af3-1617-4978-b0a1-c2de0e8f86ab",
   "metadata": {},
   "outputs": [
    {
     "name": "stdin",
     "output_type": "stream",
     "text": [
      "Enter your number\n",
      " 28\n"
     ]
    },
    {
     "name": "stdout",
     "output_type": "stream",
     "text": [
      "Even\n"
     ]
    }
   ],
   "source": [
    "def my_fucn(n = 2):                #Giving 2 as a default value for the parameter n, so that if nothing is passed to the function, it takes 2\n",
    "    if(n % 2 == 0):\n",
    "        return ('Even')\n",
    "    else: \n",
    "        return ('Odd')\n",
    "x = int(input('Enter your number\\n'))\n",
    "print(my_fucn(x))"
   ]
  },
  {
   "cell_type": "code",
   "execution_count": 73,
   "id": "e65859b5-f77b-42a6-96e7-232a49c3c10c",
   "metadata": {},
   "outputs": [
    {
     "name": "stdout",
     "output_type": "stream",
     "text": [
      "False\n"
     ]
    }
   ],
   "source": [
    "#Function which returns true if the list contains atleast one even number and false otherwise\n",
    "def even(list):\n",
    "    for n in list:\n",
    "        if n % 2 == 0:\n",
    "            return True\n",
    "    return False\n",
    "print(even([1,3,5,3]))"
   ]
  },
  {
   "cell_type": "markdown",
   "id": "c224cd85-0814-4f1f-ba2b-f95084412486",
   "metadata": {},
   "source": [
    "------------------------------------------------------------------Touple unpacking with functions-------------------------------------------------------"
   ]
  },
  {
   "cell_type": "code",
   "execution_count": 113,
   "id": "49243b3a-992b-49a6-ae13-0c1a9c14f207",
   "metadata": {},
   "outputs": [
    {
     "name": "stdout",
     "output_type": "stream",
     "text": [
      "C worked for 9 hours\n"
     ]
    }
   ],
   "source": [
    "def eom(l):\n",
    "    a = 0\n",
    "    b = ''\n",
    "    for i, j in l:\n",
    "        if a < j:\n",
    "            a = j\n",
    "            b = i\n",
    "    return (b, a)\n",
    "ll = [('a', 3), ('b', 3), ('c', 9)]\n",
    "o,p = eom(ll)\n",
    "print(f'{o.upper()} worked for {p} hours')"
   ]
  },
  {
   "cell_type": "code",
   "execution_count": 102,
   "id": "77c571f0-24e3-4eea-bcf8-3573cd2abc7d",
   "metadata": {},
   "outputs": [
    {
     "name": "stdout",
     "output_type": "stream",
     "text": [
      "[' ', ' ', 'C']\n",
      "Shuffling\n"
     ]
    },
    {
     "name": "stdin",
     "output_type": "stream",
     "text": [
      "Take your guess 1\n"
     ]
    },
    {
     "name": "stdout",
     "output_type": "stream",
     "text": [
      "[' ', ' ', 'C']\n",
      "Shuffling\n"
     ]
    },
    {
     "name": "stdin",
     "output_type": "stream",
     "text": [
      "Take your guess 1\n"
     ]
    },
    {
     "name": "stdout",
     "output_type": "stream",
     "text": [
      "['C', ' ', ' ']\n",
      "Shuffling\n"
     ]
    },
    {
     "name": "stdin",
     "output_type": "stream",
     "text": [
      "Take your guess 1\n"
     ]
    },
    {
     "name": "stdout",
     "output_type": "stream",
     "text": [
      "[' ', 'C', ' ']\n",
      "Hit\n"
     ]
    }
   ],
   "source": [
    "from random import shuffle\n",
    "def Shuffle_cups(c):\n",
    "    shuffle(c)\n",
    "    return c\n",
    "\n",
    "def cup_game():\n",
    "    i = 0\n",
    "    cups = Shuffle_cups([' ', ' ', 'C'])\n",
    "    while i < 3:\n",
    "        print(cups)\n",
    "        cups = Shuffle_cups([' ', ' ', 'C'])\n",
    "        print('Shuffling')\n",
    "        x = take_guess()\n",
    "        if cups[int(x)]  == 'C':\n",
    "            print(cups)\n",
    "            print('Hit')\n",
    "            i = 3\n",
    "        i += 1\n",
    "    if i == 3:\n",
    "        print(cups)\n",
    "        print('Missed')  \n",
    "\n",
    "def take_guess():\n",
    "    x = None\n",
    "    while x not in ['0', '1', '2']:\n",
    "        x = input('Take your guess')\n",
    "        if x not in ['0', '1', '2']:\n",
    "            print('Invalid input, try again')\n",
    "    else:\n",
    "        return x\n",
    "\n",
    "cup_game()"
   ]
  },
  {
   "cell_type": "markdown",
   "id": "5c699a92-a275-4f21-b043-6bfd74417681",
   "metadata": {},
   "source": [
    "------------------------------------------------------------------*args/**kwargs------------------------------------------------------------------------"
   ]
  },
  {
   "cell_type": "code",
   "execution_count": 40,
   "id": "7cfc52ea-dc90-489d-9a87-aa3ca1a65576",
   "metadata": {},
   "outputs": [
    {
     "name": "stdout",
     "output_type": "stream",
     "text": [
      "10.0\n"
     ]
    }
   ],
   "source": [
    "#Arguments, key_word_arguments\n",
    "def myfunc(a, b, c=0):\n",
    "    return sum((a, b, c))* 0.05\n",
    "print(myfunc(33, 67, 100))"
   ]
  },
  {
   "cell_type": "markdown",
   "id": "1feb22ee-1a7d-4d67-a49b-99c2fc2f71fb",
   "metadata": {},
   "source": [
    "Here we are restricted to only 2 arguments which we can pass. If we need to pass in multiple arguments, we can make use of args.\n",
    "Args returns back a tuple\n",
    "Kwargs returns back a dictionary"
   ]
  },
  {
   "cell_type": "code",
   "execution_count": 43,
   "id": "cd2287be-4361-46d4-b1df-f0b17a3d19e1",
   "metadata": {},
   "outputs": [
    {
     "name": "stdout",
     "output_type": "stream",
     "text": [
      "10.0\n"
     ]
    }
   ],
   "source": [
    "def myfunc(*args):\n",
    "    return sum(args)* 0.05 \n",
    "print(myfunc(33, 67, 100))\n",
    "# As you can see we can have multiple arguments, without defining it as a parameter while passing it."
   ]
  },
  {
   "cell_type": "code",
   "execution_count": 52,
   "id": "99b817a5-3683-402f-a113-894d95b99b44",
   "metadata": {},
   "outputs": [],
   "source": [
    "def funcfunc(**kwargs):\n",
    "    print(kwargs)\n",
    "    if 'a' in kwargs:\n",
    "        print(f\"Here is it's value {kwargs['a']}\")\n",
    "    else:\n",
    "        print('No key no value')"
   ]
  },
  {
   "cell_type": "code",
   "execution_count": 54,
   "id": "808b1096-bbe6-44a9-92cf-3b927ffbcfcb",
   "metadata": {},
   "outputs": [
    {
     "name": "stdout",
     "output_type": "stream",
     "text": [
      "{'a': 8, 'b': 69}\n",
      "Here is it's value 8\n"
     ]
    }
   ],
   "source": [
    "funcfunc(a = 8, b = 69)"
   ]
  },
  {
   "cell_type": "markdown",
   "id": "a00943c3-77bb-4e8b-b85c-6c2465bfd852",
   "metadata": {},
   "source": [
    "This keeps in dictionary as the parameters, if you can see it's stored as a dictionary when we print kwargs. And it does not complain when extra prameter is sent in."
   ]
  },
  {
   "cell_type": "code",
   "execution_count": 67,
   "id": "705d3a8b-9b5d-41e8-996e-eef0be84ae86",
   "metadata": {},
   "outputs": [],
   "source": [
    "# Using both the *args and **kwargs in a single function\n",
    "def ffunc(*args, **kwargs):\n",
    "    print(args)\n",
    "    print(kwargs)\n",
    "    print(f\"Hey my name is {args[1]} and I'm {kwargs['a1']} years old\")"
   ]
  },
  {
   "cell_type": "code",
   "execution_count": 68,
   "id": "226feb8a-eac5-4c44-ad13-cf04dd95ef42",
   "metadata": {},
   "outputs": [
    {
     "name": "stdout",
     "output_type": "stream",
     "text": [
      "('Rahul', 'Suresh', 'Ramesh')\n",
      "{'a': 21, 'a0': 22, 'a1': 21}\n",
      "Hey my name is Suresh and I'm 21 years old\n"
     ]
    }
   ],
   "source": [
    "ffunc('Rahul', 'Suresh', 'Ramesh', a = 21, a0 = 22, a1 = 21)"
   ]
  },
  {
   "cell_type": "code",
   "execution_count": null,
   "id": "b9846f7d-ae2a-4881-8f02-866364c7bde1",
   "metadata": {},
   "outputs": [],
   "source": [
    "--------------------------------------------------------------------Assignment Questions----------------------------------------------------------------"
   ]
  },
  {
   "cell_type": "code",
   "execution_count": 107,
   "id": "24f2d6c2-ba5d-4d6d-99b8-2fbcfc03d8d8",
   "metadata": {},
   "outputs": [
    {
     "data": {
      "text/plain": [
       "14"
      ]
     },
     "execution_count": 107,
     "metadata": {},
     "output_type": "execute_result"
    }
   ],
   "source": [
    "#I felt fucked up question, add everything excluding the no. b/w 6 to 9\n",
    "def summer_69(arr):\n",
    "    sum = 0\n",
    "    flag = True\n",
    "    for i in arr:\n",
    "        # print(i, flag)\n",
    "        if flag and (i != 6):\n",
    "            sum += i\n",
    "        else: \n",
    "            flag = False\n",
    "            if i == 9:\n",
    "                flag = True\n",
    "    return sum\n",
    "summer_69([2, 1, 6, 9, 11])"
   ]
  },
  {
   "cell_type": "code",
   "execution_count": 7,
   "id": "4d731959-97fc-41f5-9f17-5931e1802296",
   "metadata": {},
   "outputs": [
    {
     "data": {
      "text/plain": [
       "25"
      ]
     },
     "execution_count": 7,
     "metadata": {},
     "output_type": "execute_result"
    }
   ],
   "source": [
    "#Had the toughest time solving this, ever. I couldn't solve this simple problem\n",
    "def count_primes(num):\n",
    "    count = 0\n",
    "    for i in range(num+1):\n",
    "        # print(i)\n",
    "        if prime(i):\n",
    "            # print(i)\n",
    "            count += 1\n",
    "    return count - 2\n",
    "\n",
    "def prime(n):\n",
    "    if n < 2:\n",
    "        return True\n",
    "    for i in range(2, round(n**2)+1):\n",
    "        if n%i == 0 and n != i:\n",
    "            # print(n, i)\n",
    "            return False\n",
    "    return True\n",
    "\n",
    "count_primes(100)"
   ]
  },
  {
   "cell_type": "markdown",
   "id": "649354ec-49cb-4e9f-a49b-f0095ba35f16",
   "metadata": {},
   "source": [
    "----------------------------------------------------------------Lamda, Map, Filter----------------------------------------------------------------------"
   ]
  },
  {
   "cell_type": "code",
   "execution_count": 2,
   "id": "76a22192-d6f3-49ac-a5cf-08a90c505075",
   "metadata": {},
   "outputs": [
    {
     "name": "stdout",
     "output_type": "stream",
     "text": [
      "[1, 4, 9, 16, 25, 36, 49, 64, 81, 0]\n"
     ]
    }
   ],
   "source": [
    "#Map function basically executes a functions as many times as the number of elements we have in a list\n",
    "Ls = [1, 2, 3, 4, 5, 6, 7, 8, 9, 0]\n",
    "#Let's say we need the square of all the elements of the list, we were using a for loop to iterate through the indices of the lists, but map does it for us. \n",
    "def myfunc(n):\n",
    "    return n ** 2\n",
    "\n",
    "res = list(map(myfunc, Ls))\n",
    "print(res)"
   ]
  },
  {
   "cell_type": "code",
   "execution_count": 3,
   "id": "07b66f4a-6b87-4494-85b2-c6160f51e116",
   "metadata": {},
   "outputs": [
    {
     "name": "stdout",
     "output_type": "stream",
     "text": [
      "[2, 4, 6, 8, 0]\n"
     ]
    }
   ],
   "source": [
    "#Filter helps you skip a step which includes checking and adding only the required result to a new list. Meaning it does it for you.\n",
    "def myfunc(n):\n",
    "    return n%2 == 0\n",
    "\n",
    "res = list(filter(myfunc, Ls)) \n",
    "print(res)"
   ]
  },
  {
   "cell_type": "code",
   "execution_count": 5,
   "id": "6ae3fd98-ef55-4a81-a5f2-4c67949fd1ac",
   "metadata": {},
   "outputs": [
    {
     "name": "stdout",
     "output_type": "stream",
     "text": [
      "[2, 4, 6, 8, 0]\n",
      "[1, 4, 9, 16, 25, 36, 49, 64, 81, 0]\n"
     ]
    }
   ],
   "source": [
    "#Lambda is gambda, not recommended, all one liner bs, we can write the over code using lambda os follows\n",
    "#Lambda is an anonyms function, you need not give it any name.\n",
    "#Key points: Anonymous Function: It doesn’t need a name. You define it as lambda, followed by parameters, a colon, and a single expression.\n",
    "#            Single Expression: A lambda function can only contain one expression, not multiple lines of code. \n",
    "#                               It returns the result of this expression automatically, without needing an explicit return statement.\n",
    "x = list(filter(lambda res: res%2 == 0, Ls))\n",
    "y = list(map(lambda res0: res0 ** 2, Ls))\n",
    "print(x)\n",
    "print(y)"
   ]
  },
  {
   "cell_type": "code",
   "execution_count": 1,
   "id": "198ebd21-a3af-4e15-b053-249d813fe961",
   "metadata": {},
   "outputs": [
    {
     "name": "stdout",
     "output_type": "stream",
     "text": [
      "['S', 'P', 'D']\n"
     ]
    }
   ],
   "source": [
    "fs = ['Stingabong', 'Pingabong', 'Dingabong']\n",
    "s = list(map(lambda fs: fs[0], fs))\n",
    "print(s)"
   ]
  },
  {
   "cell_type": "markdown",
   "id": "e33ec6df-6e63-450f-b38c-dd1fc3945b8f",
   "metadata": {},
   "source": [
    "----------------------------------------------------------------------OOP-------------------------------------------------------------------------------"
   ]
  },
  {
   "cell_type": "code",
   "execution_count": 40,
   "id": "1ced4759-08f4-4da6-ab77-98d40f916815",
   "metadata": {},
   "outputs": [
    {
     "data": {
      "text/plain": [
       "__main__.MyClass"
      ]
     },
     "execution_count": 40,
     "metadata": {},
     "output_type": "execute_result"
    }
   ],
   "source": [
    "#Class example\n",
    "class MyClass():\n",
    "    def __init__(self, var):                 #Constructor, this is a constructor. This is called everytime an object is instantiated. In Python, the constructor is defined using the __init__ method\n",
    "        self.myvar = var\n",
    "\n",
    "type(obj)"
   ]
  },
  {
   "cell_type": "code",
   "execution_count": 41,
   "id": "3940cf25-9b86-40ae-abf4-64190bc968cf",
   "metadata": {},
   "outputs": [
    {
     "name": "stdout",
     "output_type": "stream",
     "text": [
      "Silly\n"
     ]
    }
   ],
   "source": [
    "obj = MyClass('Hello') #This calls the constructor passing 'Hello' as the value.\n",
    "obj.myvar = 'Silly'    #The variable is reassigned with a different value.\n",
    "print(obj.myvar)"
   ]
  },
  {
   "cell_type": "code",
   "execution_count": 2,
   "id": "bfb80755-4fca-4165-ba0a-d970ae53c555",
   "metadata": {},
   "outputs": [],
   "source": [
    "#Method 1 with constructor\n",
    "class Mth():\n",
    "    def __init__(self, a, b):\n",
    "        self.a = a\n",
    "        self.b = b\n",
    "    def sums(self):\n",
    "        return self.a + self.b\n",
    "\n",
    "#Method 2 without constructor\n",
    "class Mth1():\n",
    "\n",
    "    def sums(self, a, b):\n",
    "        self.a = a\n",
    "        self.b = b\n",
    "        return self.a + self.b"
   ]
  },
  {
   "cell_type": "code",
   "execution_count": 3,
   "id": "6496fe9e-f80a-4ece-b43c-3634ac3a34a3",
   "metadata": {},
   "outputs": [
    {
     "data": {
      "text/plain": [
       "5"
      ]
     },
     "execution_count": 3,
     "metadata": {},
     "output_type": "execute_result"
    }
   ],
   "source": [
    "o = Mth(2, 3)\n",
    "o.sums()\n",
    "\n",
    "o1 = Mth1()\n",
    "o1.sums(2, 3)"
   ]
  },
  {
   "cell_type": "code",
   "execution_count": 8,
   "id": "df539600-a7c6-46ec-9339-48b90ab3576a",
   "metadata": {},
   "outputs": [],
   "source": [
    "class cir():\n",
    "    pi = 3.14                                          #Class object attribute\n",
    "    def __init__(self, radius = 1):\n",
    "        self.radius = radius\n",
    "        self.area = cir.pi * (radius ** 2)             #Notice that you can also use class name to access the class object attribute\n",
    "\n",
    "    def circum(self):                                  #Common mistake: Forgetting to pass self\n",
    "        return 2 * cir.pi * self.radius"
   ]
  },
  {
   "cell_type": "code",
   "execution_count": 10,
   "id": "71fd4c63-02d7-46b2-ae94-7530720b10ba",
   "metadata": {},
   "outputs": [
    {
     "name": "stdout",
     "output_type": "stream",
     "text": [
      "3.14\n"
     ]
    },
    {
     "data": {
      "text/plain": [
       "6.28"
      ]
     },
     "execution_count": 10,
     "metadata": {},
     "output_type": "execute_result"
    }
   ],
   "source": [
    "obj = cir()\n",
    "print(obj.pi)\n",
    "obj.circum()"
   ]
  },
  {
   "cell_type": "markdown",
   "id": "315f9b82-cb9b-4d0b-b472-025771ac3527",
   "metadata": {},
   "source": [
    "-------------------------------------------------------------------------Inheritance--------------------------------------------------------------------"
   ]
  },
  {
   "cell_type": "code",
   "execution_count": 39,
   "id": "8e555994-a21e-47d2-b948-6463fcf68e1c",
   "metadata": {},
   "outputs": [],
   "source": [
    "#We just pass the class which needs to be inherited(the base class) as the parameter to the class which is inheriting\n",
    "class c1():\n",
    "\n",
    "    def __init__(self):\n",
    "        print('Welcome to school DB')\n",
    "\n",
    "    def cl(self):\n",
    "        print('8th std')\n",
    "\n",
    "class c2(c1):                     #Inheriting c1 in c2\n",
    "\n",
    "    def __init__(self):\n",
    "        c1.__init__(self)         #Accessing the constructor, the same way we access the methods.\n",
    "        print('Student')\n",
    "\n",
    "    def sn(self):\n",
    "        print('R')\n",
    "\n",
    "    def cl(self):                 #This is function over-riding[cl is present in base class, which is overridden in the inherited class]\n",
    "        print('1st std')"
   ]
  },
  {
   "cell_type": "code",
   "execution_count": 40,
   "id": "a4563213-0d38-49f3-8c5f-c699be0121ea",
   "metadata": {},
   "outputs": [
    {
     "name": "stdout",
     "output_type": "stream",
     "text": [
      "Welcome to school DB\n",
      "Student\n"
     ]
    }
   ],
   "source": [
    "obj = c2()"
   ]
  },
  {
   "cell_type": "code",
   "execution_count": 41,
   "id": "a41da2bd-b3b8-4ca9-b39b-0359dd102fd4",
   "metadata": {},
   "outputs": [
    {
     "name": "stdout",
     "output_type": "stream",
     "text": [
      "R\n"
     ]
    }
   ],
   "source": [
    "obj.sn()"
   ]
  },
  {
   "cell_type": "code",
   "execution_count": 43,
   "id": "f6635e51-5ec1-481e-9fc8-669ab2efc54f",
   "metadata": {},
   "outputs": [
    {
     "name": "stdout",
     "output_type": "stream",
     "text": [
      "1st std\n"
     ]
    }
   ],
   "source": [
    "obj.cl()"
   ]
  },
  {
   "cell_type": "markdown",
   "id": "d7bb16f1-ff4c-4a10-a01e-25d9e2897cbd",
   "metadata": {},
   "source": [
    "----------------------------------------------------------------------Special methods-------------------------------------------------------------------"
   ]
  },
  {
   "cell_type": "code",
   "execution_count": 35,
   "id": "6b16beff-a747-4ac6-9dea-3854fe712cd0",
   "metadata": {},
   "outputs": [],
   "source": [
    "#Let's say we have our own class and we have to know it's lenght or string by using the built in functions. Then we use these special functions\n",
    "class TeSt():\n",
    "    def __init__(self, book, author, pages):\n",
    "        self.book = book\n",
    "        self.author = author\n",
    "        self.pages = pages\n",
    "\n",
    "    def __str__(self):                                          #In order to access the built in functions, we wrap '__' around those function\n",
    "        return f\"This is '{self.book}' by {self.author}\"\n",
    "\n",
    "    def __len__(self):\n",
    "        return self.pages\n",
    "\n",
    "    def __del__(self):\n",
    "        print(\"The object of this class is successfully deleted\")     #del doesn't return anything\n",
    "        "
   ]
  },
  {
   "cell_type": "code",
   "execution_count": 36,
   "id": "e3c7cb3b-b32e-4816-a8e6-4ce1927b0869",
   "metadata": {},
   "outputs": [
    {
     "name": "stdout",
     "output_type": "stream",
     "text": [
      "This is 'Tinkle' by Dumma\n"
     ]
    },
    {
     "data": {
      "text/plain": [
       "50"
      ]
     },
     "execution_count": 36,
     "metadata": {},
     "output_type": "execute_result"
    }
   ],
   "source": [
    "ob = TeSt('Tinkle', 'Dumma', 50)\n",
    "x = str(ob)\n",
    "print(x)\n",
    "len(ob)"
   ]
  },
  {
   "cell_type": "code",
   "execution_count": 37,
   "id": "56f7ec10-7573-47c5-9814-9ad500dd275d",
   "metadata": {},
   "outputs": [
    {
     "name": "stdout",
     "output_type": "stream",
     "text": [
      "The object of this class is successfully deleted\n"
     ]
    }
   ],
   "source": [
    "del ob"
   ]
  },
  {
   "cell_type": "markdown",
   "id": "8e59dbe3-af5d-40e5-b88e-20f9bebb007c",
   "metadata": {},
   "source": [
    "------------------------------------------------------------------------Error handling------------------------------------------------------------------"
   ]
  },
  {
   "cell_type": "code",
   "execution_count": 1,
   "id": "09ad428d-6212-4fcc-8865-0ad824724076",
   "metadata": {},
   "outputs": [
    {
     "name": "stdout",
     "output_type": "stream",
     "text": [
      "Here's the result: 1.0\n",
      "Phew, good luck with your math mate\n"
     ]
    }
   ],
   "source": [
    "def dievide(n1, n2):\n",
    "    return n1/n2\n",
    "\n",
    "try:\n",
    "    r = dievide(2, 2)\n",
    "except:\n",
    "    print(\"heyy, don't divide by zero man\")\n",
    "else:\n",
    "    print(f\"Here's the result: {r}\")\n",
    "finally: \n",
    "    print('Phew, good luck with your math mate')"
   ]
  },
  {
   "cell_type": "code",
   "execution_count": 13,
   "id": "a4d23bbf-2630-4815-80ee-83d8cf443fa9",
   "metadata": {},
   "outputs": [
    {
     "name": "stdout",
     "output_type": "stream",
     "text": [
      "OS err man\n",
      "Phew, glad that you are done man\n"
     ]
    }
   ],
   "source": [
    "try:\n",
    "    f = open('egfile', 'r')                        #Change with r/w/'' to see different senarios\n",
    "    f.write('This is my file only in 6th line')\n",
    "except TypeError:\n",
    "    print('Type error man')\n",
    "except OSError:\n",
    "    print('OS err man')\n",
    "except:\n",
    "    print('Yo, not OS not type, someother shi man')\n",
    "finally:\n",
    "    print('Phew, glad that you are done man')"
   ]
  },
  {
   "cell_type": "code",
   "execution_count": 5,
   "id": "a917c45a-02e6-4b32-97b2-f8177f8a31c4",
   "metadata": {},
   "outputs": [
    {
     "name": "stdin",
     "output_type": "stream",
     "text": [
      "Give me them nums man: word\n"
     ]
    },
    {
     "name": "stdout",
     "output_type": "stream",
     "text": [
      "I asked for them goddamn nums man\n",
      "Phew, glad that I'm done with your shi man\n"
     ]
    },
    {
     "name": "stdin",
     "output_type": "stream",
     "text": [
      "Give me them nums man: 32\n"
     ]
    },
    {
     "name": "stdout",
     "output_type": "stream",
     "text": [
      "Thank-'f'inn-you\n",
      "Phew, glad that I'm done with your shi man\n"
     ]
    }
   ],
   "source": [
    "while True:\n",
    "    try:\n",
    "        int(input('Give me them nums man:'))\n",
    "    except:\n",
    "        print('I asked for them goddamn nums man')\n",
    "    else:\n",
    "        print(\"Thank-'f'inn-you\")\n",
    "        break\n",
    "    finally:\n",
    "        print(\"Phew, glad that I'm done with your shi man\")"
   ]
  },
  {
   "cell_type": "code",
   "execution_count": 2,
   "id": "e82cbe4e-349f-4911-8740-1ef99d3f9cba",
   "metadata": {},
   "outputs": [
    {
     "name": "stdin",
     "output_type": "stream",
     "text": [
      "Input an integer: word\n"
     ]
    },
    {
     "name": "stdout",
     "output_type": "stream",
     "text": [
      "An error occurred! Please try again!\n"
     ]
    },
    {
     "name": "stdin",
     "output_type": "stream",
     "text": [
      "Input an integer: 2\n"
     ]
    },
    {
     "name": "stdout",
     "output_type": "stream",
     "text": [
      "Thank you, your number squared is: 4\n"
     ]
    }
   ],
   "source": [
    "def ask():\n",
    "    while True:\n",
    "        try:\n",
    "            r = (int(input('Input an integer:'))) ** 2\n",
    "        except:\n",
    "            print(\"An error occurred! Please try again!\")\n",
    "        else:\n",
    "            print(f\"Thank you, your number squared is: {r}\")\n",
    "            break\n",
    "ask()"
   ]
  },
  {
   "cell_type": "markdown",
   "id": "04c1cd20-20a6-4e6c-be84-9d54fb447548",
   "metadata": {},
   "source": [
    "====================================================================Decorators=========================================================================="
   ]
  },
  {
   "cell_type": "code",
   "execution_count": 3,
   "id": "376224f5-f9db-4946-a8b6-4483b5bbb894",
   "metadata": {},
   "outputs": [],
   "source": [
    "def f1(some_func):\n",
    "    def wrap():\n",
    "        print('Something before executing')\n",
    "        some_func()\n",
    "        print('Something after executing')\n",
    "\n",
    "    return wrap"
   ]
  },
  {
   "cell_type": "code",
   "execution_count": 15,
   "id": "2f1eda7d-0f09-469a-9ff7-d84369f6ed65",
   "metadata": {},
   "outputs": [],
   "source": [
    "@f1\n",
    "def f2():\n",
    "    print('Func passed')"
   ]
  },
  {
   "cell_type": "code",
   "execution_count": 14,
   "id": "dc934893-2c88-4905-95fb-95cb7943e415",
   "metadata": {},
   "outputs": [
    {
     "name": "stdout",
     "output_type": "stream",
     "text": [
      "Something before executing\n",
      "Func passed\n",
      "Something after executing\n"
     ]
    }
   ],
   "source": [
    "Result = f1(f2) #This is returning a function, so we must run the function as done below.\n",
    "Result()"
   ]
  },
  {
   "cell_type": "code",
   "execution_count": 17,
   "id": "2743728c-e6c9-4442-9119-bb6d9bcea6fe",
   "metadata": {},
   "outputs": [
    {
     "name": "stdout",
     "output_type": "stream",
     "text": [
      "Something before executing\n",
      "Func passed\n",
      "Something after executing\n"
     ]
    }
   ],
   "source": [
    "#We can use the same thing just by using '@' symbol which is decorators right before the func to be passed and then calling the function to be passed\n",
    "f2()"
   ]
  },
  {
   "cell_type": "markdown",
   "id": "c8ef45f2-a47d-4b3e-858d-2cd5c053b87b",
   "metadata": {},
   "source": [
    "-------------------------------------------------------------------Generators--------------------------------------------------------------------------"
   ]
  },
  {
   "cell_type": "markdown",
   "id": "a7b3dc6b-0391-4d70-a769-078cb8a8b57c",
   "metadata": {},
   "source": [
    "You basically won't store anything. Just normally return the result as is"
   ]
  },
  {
   "cell_type": "code",
   "execution_count": 8,
   "id": "e7075034-575c-40cb-a8fc-4c8ee5f27bff",
   "metadata": {},
   "outputs": [],
   "source": [
    "#Yield is the key-word for generators, this is something that I was actually looking for in other programming languages\n",
    "\n",
    "def fibbon_normal(n):                       #Normal, withould using 'Yield' (Generators)\n",
    "    a = 1\n",
    "    b = 1\n",
    "    res = []\n",
    "    for i in range(n):\n",
    "        res.append(a)\n",
    "        a = b\n",
    "        b = a+b\n",
    "    return res\n",
    "\n",
    "def fibbon(n):                              #Using 'Yield' (Generators)\n",
    "    a = 1\n",
    "    b = 1\n",
    "    for i in range(n):\n",
    "        yield a\n",
    "        a, b = b, a+b"
   ]
  },
  {
   "cell_type": "code",
   "execution_count": 9,
   "id": "6511413e-1a17-4e9e-be61-6ed8e0c10755",
   "metadata": {},
   "outputs": [
    {
     "name": "stdout",
     "output_type": "stream",
     "text": [
      "[1, 1, 2, 4, 8, 16, 32, 64, 128, 256]\n"
     ]
    }
   ],
   "source": [
    "print(list(fibbon_normal(10)))"
   ]
  },
  {
   "cell_type": "code",
   "execution_count": 6,
   "id": "f8f907f6-ea06-4186-96a0-ed04079ee0d0",
   "metadata": {},
   "outputs": [
    {
     "name": "stdout",
     "output_type": "stream",
     "text": [
      "0\n",
      "1\n",
      "2\n"
     ]
    }
   ],
   "source": [
    "#next function remembers the value and iterates to the next value\n",
    "def func_next():\n",
    "    for i in range(3):\n",
    "        yield i\n",
    "\n",
    "g = func_next()\n",
    "print(next(g))\n",
    "print(next(g))\n",
    "print(next(g))"
   ]
  },
  {
   "cell_type": "code",
   "execution_count": 8,
   "id": "00ec56ef-42bc-4755-ba5d-81550d0f5844",
   "metadata": {},
   "outputs": [
    {
     "name": "stdout",
     "output_type": "stream",
     "text": [
      "P\n",
      "r\n"
     ]
    }
   ],
   "source": [
    "#In order to use the next fucn on a string, you first have to have the iter form of that string. You can acheive it by passing you're string to iter fnc\n",
    "sstr = 'Pranath'\n",
    "sstr_iter = iter(sstr)\n",
    "print(next(sstr_iter))\n",
    "print(next(sstr_iter))"
   ]
  },
  {
   "cell_type": "markdown",
   "id": "7a3f803a-6b6b-4dec-b8b1-ef53b0d54930",
   "metadata": {},
   "source": [
    "--------------------------------------------------------------------------Advanced py modules-----------------------------------------------------------"
   ]
  },
  {
   "cell_type": "code",
   "execution_count": 36,
   "id": "93ad84c4-3b17-4e14-b846-5d10ec9041fb",
   "metadata": {},
   "outputs": [
    {
     "name": "stdout",
     "output_type": "stream",
     "text": [
      "6\n",
      "Counter({'a': 6, 2: 5, 3: 5, 4: 1})\n"
     ]
    }
   ],
   "source": [
    "#1. Collection modules\n",
    "#Counter\n",
    "from collections import Counter\n",
    "ls = ['a','a','a','a','a','a',2,2,2,2,2,3,3,3,3,3,4]\n",
    "print(ls.count('a'))                                #This gives you the count of the elements in the list\n",
    "a = Counter(ls)                            #This gives you a complete dictionary of keys as elements of list and it's count as item\n",
    "print(a)\n",
    "#NOTE: The 'C' in the counter is capital"
   ]
  },
  {
   "cell_type": "code",
   "execution_count": 40,
   "id": "48870e60-abe6-419e-9f19-bbd78b4015db",
   "metadata": {},
   "outputs": [
    {
     "data": {
      "text/plain": [
       "Counter({'you': 2,\n",
       "         'man': 2,\n",
       "         'hey': 1,\n",
       "         'bro': 1,\n",
       "         'how': 1,\n",
       "         'the': 1,\n",
       "         'hell': 1,\n",
       "         'have': 1,\n",
       "         'been': 1,\n",
       "         'shi': 1})"
      ]
     },
     "execution_count": 40,
     "metadata": {},
     "output_type": "execute_result"
    }
   ],
   "source": [
    "#You can use this to check the count of the words that are present in the sentence\n",
    "sent = 'Hey you man bro how the hell have you been man Shi'\n",
    "Counter(sent.lower().split(' '))"
   ]
  },
  {
   "cell_type": "code",
   "execution_count": 46,
   "id": "6bfb467d-397e-41be-8155-086bff29cdb4",
   "metadata": {},
   "outputs": [
    {
     "name": "stdout",
     "output_type": "stream",
     "text": [
      "[('d', 7), ('b', 6), ('s', 5), ('k', 5), ('a', 3)]\n",
      "dict_keys(['a', 's', 'd', 'b', 'k'])\n",
      "dict_values([3, 5, 7, 6, 5])\n",
      "dict_items([('a', 3), ('s', 5), ('d', 7), ('b', 6), ('k', 5)])\n"
     ]
    }
   ],
   "source": [
    "str = 'asdddddddssssaabbbbbbkkkkk'\n",
    "c = Counter(str)\n",
    "print(c.most_common())\n",
    "print(c.keys())\n",
    "print(c.values())\n",
    "print(c.items())"
   ]
  },
  {
   "cell_type": "code",
   "execution_count": 8,
   "id": "88db76f6-8081-4b3d-8c01-d485f9407a51",
   "metadata": {},
   "outputs": [
    {
     "ename": "KeyError",
     "evalue": "'c'",
     "output_type": "error",
     "traceback": [
      "\u001b[1;31m---------------------------------------------------------------------------\u001b[0m",
      "\u001b[1;31mKeyError\u001b[0m                                  Traceback (most recent call last)",
      "Cell \u001b[1;32mIn[8], line 3\u001b[0m\n\u001b[0;32m      1\u001b[0m \u001b[38;5;66;03m#Difference b/w std dict and defaultdict - If there's no key present in the std dict, it gives an error.\u001b[39;00m\n\u001b[0;32m      2\u001b[0m stddict \u001b[38;5;241m=\u001b[39m {\u001b[38;5;124m'\u001b[39m\u001b[38;5;124ma\u001b[39m\u001b[38;5;124m'\u001b[39m: \u001b[38;5;241m1\u001b[39m, \u001b[38;5;124m'\u001b[39m\u001b[38;5;124mb\u001b[39m\u001b[38;5;124m'\u001b[39m: \u001b[38;5;241m2\u001b[39m}\n\u001b[1;32m----> 3\u001b[0m \u001b[38;5;28mprint\u001b[39m(stddict[\u001b[38;5;124m'\u001b[39m\u001b[38;5;124mc\u001b[39m\u001b[38;5;124m'\u001b[39m])\n",
      "\u001b[1;31mKeyError\u001b[0m: 'c'"
     ]
    }
   ],
   "source": [
    "#Difference b/w std dict and defaultdict - If there's no key present in the std dict, it gives an error.\n",
    "stddict = {'a': 1, 'b': 2}\n",
    "print(stddict['c'])"
   ]
  },
  {
   "cell_type": "code",
   "execution_count": 10,
   "id": "50c10d1e-7d59-4519-981e-5ba9739440fb",
   "metadata": {},
   "outputs": [
    {
     "name": "stdout",
     "output_type": "stream",
     "text": [
      "0\n",
      "defaultdict(<function <lambda> at 0x000002928D34DC60>, {'first': 1, 'second': 0})\n"
     ]
    }
   ],
   "source": [
    "from collections import defaultdict\n",
    "defdict = defaultdict(lambda: 0)\n",
    "defdict['first'] = 1\n",
    "print(defdict['second'])\n",
    "print(defdict)"
   ]
  },
  {
   "cell_type": "code",
   "execution_count": 18,
   "id": "f1a61b96-1708-43b5-bf67-ca9e732b3642",
   "metadata": {},
   "outputs": [
    {
     "name": "stdout",
     "output_type": "stream",
     "text": [
      "1\n"
     ]
    },
    {
     "data": {
      "text/plain": [
       "1"
      ]
     },
     "execution_count": 18,
     "metadata": {},
     "output_type": "execute_result"
    }
   ],
   "source": [
    "# let's say you have lots of elements in the tuple, you can't remember its index. We use namedtuple\n",
    "from collections import namedtuple\n",
    "student = namedtuple('RNS', ['Name', 'USN', 'Branch'])\n",
    "A = student('A', 1, 'IS')\n",
    "print(A.USN)                                   # You can access it with the given names\n",
    "A[1]                                           # You can access it via index like a normal tuple"
   ]
  },
  {
   "cell_type": "markdown",
   "id": "744405d3-d047-4454-b26b-eb149f36baa8",
   "metadata": {},
   "source": [
    "-----------------------------------------------------------Opening and moving file----------------------------------------------------------------------"
   ]
  },
  {
   "cell_type": "code",
   "execution_count": 31,
   "id": "3b46baf9-d346-4214-bc6d-bb87a0b9ffb9",
   "metadata": {},
   "outputs": [
    {
     "data": {
      "text/plain": [
       "['All Users', 'CSP', 'Default', 'Default User', 'desktop.ini', 'Public']"
      ]
     },
     "execution_count": 31,
     "metadata": {},
     "output_type": "execute_result"
    }
   ],
   "source": [
    "import os\n",
    "os.getcwd()\n",
    "os.listdir('C:\\\\Users\\\\')\n",
    "# os.listdir()"
   ]
  },
  {
   "cell_type": "code",
   "execution_count": 43,
   "id": "18a8b943-0f1c-461e-9a58-075471359045",
   "metadata": {},
   "outputs": [
    {
     "name": "stdout",
     "output_type": "stream",
     "text": [
      "This is a test file, and I'm writing something into it\n"
     ]
    }
   ],
   "source": [
    "#We already know how to open/read/write a file\n",
    "file = open('OSmod.txt', 'w+')\n",
    "file.write(\"This is a test file, and I'm writing something into it\")\n",
    "file.seek(0)\n",
    "print(file.read())\n",
    "file.close()"
   ]
  },
  {
   "cell_type": "code",
   "execution_count": 34,
   "id": "74e597db-6461-4fad-baf9-d6949b88a9fc",
   "metadata": {},
   "outputs": [
    {
     "data": {
      "text/plain": [
       "'C:\\\\Users\\\\CSP\\\\Desktop\\\\Python\\\\OS Module\\\\OSmod.txt'"
      ]
     },
     "execution_count": 34,
     "metadata": {},
     "output_type": "execute_result"
    }
   ],
   "source": [
    "#Now we'll see how to move files around\n",
    "import shutil as sh\n",
    "sh.move('OSmod.txt', 'C:\\\\Users\\\\CSP\\\\Desktop\\\\Python\\\\OS Module') #Parameters are (src, dest)"
   ]
  },
  {
   "cell_type": "code",
   "execution_count": 36,
   "id": "f80871f1-a282-4767-acbd-ec8be9a9dd0a",
   "metadata": {},
   "outputs": [
    {
     "data": {
      "text/plain": [
       "['OSmod.txt']"
      ]
     },
     "execution_count": 36,
     "metadata": {},
     "output_type": "execute_result"
    }
   ],
   "source": [
    "os.listdir('C:\\\\Users\\\\CSP\\\\Desktop\\\\Python\\\\OS Module') #Confirmation that the file has been moved"
   ]
  },
  {
   "cell_type": "code",
   "execution_count": 44,
   "id": "d5f20d69-5d53-4008-adf4-fa3f4b285d94",
   "metadata": {},
   "outputs": [],
   "source": [
    "#We have three ways to delete the file:\n",
    "#1. os.unlink() - This removes the files NOTE: os.remove() is same as this\n",
    "#2. os.rmdir() - This deletes the folder. NOTE: For deleting the folder, the folder must be empty[Nothing should be present inside the folder]\n",
    "#3. sh.rmtree() - Most dangerous one, since you can't retrive back the deleted folder. It will not be present in recycle bin aswell"
   ]
  },
  {
   "cell_type": "code",
   "execution_count": 51,
   "id": "e3ac69d2-8eec-49a8-b85b-57090611a413",
   "metadata": {},
   "outputs": [],
   "source": [
    "os.unlink('C:\\\\Users\\\\CSP\\\\Desktop\\\\Python\\\\OS Module\\\\OSmod.txt')"
   ]
  },
  {
   "cell_type": "code",
   "execution_count": 52,
   "id": "155e1784-eea9-4b83-ad08-65a3064f2ecf",
   "metadata": {},
   "outputs": [],
   "source": [
    "os.remove('C:\\\\Users\\\\CSP\\\\Desktop\\\\Python\\\\OS Module\\\\OSmod0.txt')"
   ]
  },
  {
   "cell_type": "code",
   "execution_count": 53,
   "id": "e0877aab-d09a-40e6-9d56-5362e49692b4",
   "metadata": {},
   "outputs": [],
   "source": [
    "os.rmdir('C:\\\\Users\\\\CSP\\\\Desktop\\\\Python\\\\OS Module')"
   ]
  },
  {
   "cell_type": "code",
   "execution_count": 54,
   "id": "99eb12dc-e5bd-4b4e-a423-7f69f4677f20",
   "metadata": {},
   "outputs": [],
   "source": [
    "#Not present in recycle bin as well\n",
    "sh.rmtree('C:\\\\Users\\\\CSP\\\\Desktop\\\\Python\\\\Testrmtree')"
   ]
  },
  {
   "cell_type": "code",
   "execution_count": 57,
   "id": "906a5917-e08a-426f-a9ab-94f5e05f4e0a",
   "metadata": {},
   "outputs": [],
   "source": [
    "#Now you can't always use sh.rmtree()\n",
    "#The safe way to handle this is by using send2trash. You need to install send2trash for importing it. You can use pip to install the same\n",
    "import send2trash\n",
    "send2trash.send2trash('deleg')\n",
    "#This goes to recycle bin."
   ]
  },
  {
   "cell_type": "code",
   "execution_count": 77,
   "id": "745d8140-1990-4296-9ed6-c4ec92ae18a5",
   "metadata": {},
   "outputs": [
    {
     "name": "stdout",
     "output_type": "stream",
     "text": [
      "We are in: C:\\Users\\CSP\\Desktop\\Python\\py_in_sublime\\Package1\n",
      "\n",
      "The subfolders are:\n",
      "\t Package2\n",
      "\t __pycache__\n",
      "\n",
      "The files are:\n",
      "\t sinp1.py\n",
      "\t __init__.py\n",
      "\n",
      "We are in: C:\\Users\\CSP\\Desktop\\Python\\py_in_sublime\\Package1\\Package2\n",
      "\n",
      "The subfolders are:\n",
      "\t __pycache__\n",
      "\n",
      "The files are:\n",
      "\t ifmain.py\n",
      "\t sinp2.py\n",
      "\t __init__.py\n",
      "\n",
      "We are in: C:\\Users\\CSP\\Desktop\\Python\\py_in_sublime\\Package1\\Package2\\__pycache__\n",
      "\n",
      "The subfolders are:\n",
      "\n",
      "The files are:\n",
      "\t ifmain.cpython-312.pyc\n",
      "\t sinp2.cpython-312.pyc\n",
      "\t __init__.cpython-312.pyc\n",
      "\n",
      "We are in: C:\\Users\\CSP\\Desktop\\Python\\py_in_sublime\\Package1\\__pycache__\n",
      "\n",
      "The subfolders are:\n",
      "\n",
      "The files are:\n",
      "\t sinp1.cpython-312.pyc\n",
      "\t __init__.cpython-312.pyc\n",
      "\n"
     ]
    }
   ],
   "source": [
    "#The tuple unpacking done from the walk function is dirpath, dirnames, filenames. In this eg it's a, b and c\n",
    "for a, b, c in os.walk('C:\\\\Users\\\\CSP\\\\Desktop\\\\Python\\\\py_in_sublime\\\\Package1'):\n",
    "    print(f\"We are in: {a}\\n\")\n",
    "    print(\"The subfolders are:\")\n",
    "    for j in b:\n",
    "        print(\"\\t\",j)\n",
    "    print()\n",
    "    print(\"The files are:\")\n",
    "    for i in c:\n",
    "        print(\"\\t\",i)\n",
    "    print()"
   ]
  },
  {
   "cell_type": "markdown",
   "id": "5273467d-8878-4e62-bd58-86ea05504152",
   "metadata": {},
   "source": [
    "--------------------------------------------------------------Date Time---------------------------------------------------------------------------------"
   ]
  },
  {
   "cell_type": "code",
   "execution_count": 83,
   "id": "c2e413ab-3d88-4699-b6b2-0ac3c1f9d4d4",
   "metadata": {},
   "outputs": [
    {
     "name": "stdout",
     "output_type": "stream",
     "text": [
      "10:01:20.000005\n",
      "10\n",
      "1\n",
      "20\n",
      "5\n"
     ]
    }
   ],
   "source": [
    "import datetime\n",
    "time = datetime.time(10, 1, 20, 5)\n",
    "print(time)\n",
    "print(time.hour)\n",
    "print(time.minute)\n",
    "print(time.second)\n",
    "print(time.microsecond)"
   ]
  },
  {
   "cell_type": "code",
   "execution_count": 92,
   "id": "c174b14b-665f-496b-8135-5910422f8bae",
   "metadata": {},
   "outputs": [
    {
     "name": "stdout",
     "output_type": "stream",
     "text": [
      "2024-11-04\n",
      "2024\n",
      "11\n",
      "4\n",
      "2024-11-03\n",
      "2024\n",
      "11\n",
      "3\n"
     ]
    }
   ],
   "source": [
    "date = datetime.date(2024, 11, 4)\n",
    "print(date)\n",
    "print(date.year)\n",
    "print(date.month)\n",
    "print(date.day)\n",
    "\n",
    "date0 = datetime.date.today()\n",
    "print(date0)\n",
    "print(date0.year)\n",
    "print(date0.month)\n",
    "print(date0.day)"
   ]
  },
  {
   "cell_type": "code",
   "execution_count": 2,
   "id": "0197db27-2a50-4943-9667-dd29ef39c924",
   "metadata": {},
   "outputs": [
    {
     "name": "stdout",
     "output_type": "stream",
     "text": [
      "2024-11-04 10:12:30.000005\n",
      "Mon Nov  4 10:35:46 2024\n"
     ]
    }
   ],
   "source": [
    "#To have both the date and time\n",
    "from datetime import datetime\n",
    "stamp = datetime(2024, 11, 4, 10, 12, 30, 5)\n",
    "print(stamp)\n",
    "\n",
    "#This is some ctime\n",
    "today = datetime.today()\n",
    "a = today.ctime()\n",
    "print(a)"
   ]
  },
  {
   "cell_type": "code",
   "execution_count": 14,
   "id": "4057d292-a062-4efb-8d22-13fe117e3e52",
   "metadata": {},
   "outputs": [
    {
     "name": "stdout",
     "output_type": "stream",
     "text": [
      "2020-05-04 10:12:30.000005\n"
     ]
    }
   ],
   "source": [
    "#You can also replace any parameter in datetime that we have created above. This does not make changes in-place \n",
    "res = stamp.replace(year=2020, month=5)\n",
    "print(res)"
   ]
  },
  {
   "cell_type": "code",
   "execution_count": 41,
   "id": "77d111a1-d965-4206-9e47-d2bdb743f375",
   "metadata": {},
   "outputs": [
    {
     "name": "stdout",
     "output_type": "stream",
     "text": [
      "365 days, 0:00:00\n",
      "365\n",
      "1 day, 10:00:00\n",
      "1\n",
      "36000 122400.0\n"
     ]
    }
   ],
   "source": [
    "from datetime import date, datetime\n",
    "d1 = date(2024, 12, 31)                           #This takes in only the date\n",
    "d2 = date(2024, 1, 1)\n",
    "res = d1 - d2\n",
    "print(res)\n",
    "print(res.days)\n",
    "\n",
    "d3 = datetime(2024, 12, 31, 23, 0)                #This takes in date as well as time\n",
    "d4 = datetime(2024, 12, 30, 13, 0)\n",
    "res0 = d3 - d4\n",
    "print(res0)\n",
    "print(res0.days)\n",
    "print(res0.seconds, res0.total_seconds())"
   ]
  },
  {
   "cell_type": "markdown",
   "id": "ff108285-749d-4075-95cc-c61f33b2a3b6",
   "metadata": {},
   "source": [
    "-------------------------------------------------------------Math and random----------------------------------------------------------------------------"
   ]
  },
  {
   "cell_type": "code",
   "execution_count": 46,
   "id": "8038fa34-c33e-43d5-896a-ecde2e5990b0",
   "metadata": {},
   "outputs": [
    {
     "name": "stdout",
     "output_type": "stream",
     "text": [
      "[10, 100, 32, 80, 62]\n"
     ]
    }
   ],
   "source": [
    "from random import randint\n",
    "a = [randint(0, 100) for _ in range(5)]\n",
    "print(a)"
   ]
  },
  {
   "cell_type": "code",
   "execution_count": 65,
   "id": "d8168bce-c534-4556-8c19-1ddd11e9ba78",
   "metadata": {},
   "outputs": [
    {
     "name": "stdout",
     "output_type": "stream",
     "text": [
      "[74, 24, 69, 45, 59]\n",
      "[6, 84, 64, 27, 77]\n"
     ]
    }
   ],
   "source": [
    "#Let's say for testing we want same set of random number to be appended into the list. We use seed to achieve this\n",
    "import random\n",
    "random.seed(101)\n",
    "a = [randint(0, 100) for _ in range(5)]\n",
    "print(a)\n",
    "a = [randint(0, 100) for _ in range(5)]\n",
    "print(a)"
   ]
  },
  {
   "cell_type": "code",
   "execution_count": 83,
   "id": "18fef66b-a1b1-48c7-b245-fc6c13b1cf76",
   "metadata": {},
   "outputs": [
    {
     "name": "stdout",
     "output_type": "stream",
     "text": [
      "[0, 1, 2, 3, 4, 5, 6, 7, 8, 9, 10, 11, 12, 13, 14, 15, 16, 17, 18, 19, 20]\n",
      "4\n"
     ]
    }
   ],
   "source": [
    "#Choosing one random item from the list of items\n",
    "ls = [i for i in range(21)]\n",
    "print(ls)\n",
    "a = random.choice(ls)\n",
    "print(a)"
   ]
  },
  {
   "cell_type": "code",
   "execution_count": 89,
   "id": "c95a8261-469b-4db7-865e-7faf997ab73b",
   "metadata": {},
   "outputs": [
    {
     "name": "stdout",
     "output_type": "stream",
     "text": [
      "[14, 14, 7, 13, 11, 2, 11, 6, 14, 15]\n",
      "[7, 13, 6, 14, 9, 1, 3, 0, 16, 5]\n"
     ]
    }
   ],
   "source": [
    "#Choosing multiple items form the list of items\n",
    "#Allowing repetation \n",
    "b = random.choices(ls, k=10)\n",
    "print(b)\n",
    "#Not allowing repetation\n",
    "c = random.sample(ls, 10)\n",
    "print(c)"
   ]
  },
  {
   "cell_type": "markdown",
   "id": "b6435573-f9fc-43d0-a3bd-08daffb58c6b",
   "metadata": {},
   "source": [
    "-----------------------------------------------------------------------Python Debugger------------------------------------------------------------------"
   ]
  },
  {
   "cell_type": "code",
   "execution_count": 6,
   "id": "09aad30c-496b-4b44-a045-2e24090146b8",
   "metadata": {},
   "outputs": [
    {
     "name": "stdout",
     "output_type": "stream",
     "text": [
      "--Return--\n",
      "None\n",
      "> \u001b[1;32mc:\\users\\csp\\appdata\\local\\temp\\ipykernel_6632\\3532300969.py\u001b[0m(7)\u001b[0;36m<module>\u001b[1;34m()\u001b[0m\n",
      "\n"
     ]
    },
    {
     "name": "stdin",
     "output_type": "stream",
     "text": [
      "ipdb>  v1\n"
     ]
    },
    {
     "name": "stdout",
     "output_type": "stream",
     "text": [
      "[2, 3, 4]\n"
     ]
    },
    {
     "name": "stdin",
     "output_type": "stream",
     "text": [
      "ipdb>  v2\n"
     ]
    },
    {
     "name": "stdout",
     "output_type": "stream",
     "text": [
      "2\n"
     ]
    },
    {
     "name": "stdin",
     "output_type": "stream",
     "text": [
      "ipdb>  v3\n"
     ]
    },
    {
     "name": "stdout",
     "output_type": "stream",
     "text": [
      "4\n"
     ]
    },
    {
     "name": "stdin",
     "output_type": "stream",
     "text": [
      "ipdb>  one\n"
     ]
    },
    {
     "name": "stdout",
     "output_type": "stream",
     "text": [
      "6\n"
     ]
    },
    {
     "name": "stdin",
     "output_type": "stream",
     "text": [
      "ipdb>  two\n"
     ]
    },
    {
     "name": "stdout",
     "output_type": "stream",
     "text": [
      "*** NameError: name 'two' is not defined\n"
     ]
    },
    {
     "name": "stdin",
     "output_type": "stream",
     "text": [
      "ipdb>  q\n"
     ]
    }
   ],
   "source": [
    "#Earlier \n",
    "import pdb\n",
    "v1 = [2, 3, 4]\n",
    "v2 = 2\n",
    "v3 = 4\n",
    "one = b + c\n",
    "pdb.set_trace()\n",
    "two = a + b"
   ]
  },
  {
   "cell_type": "markdown",
   "id": "c46545f9-a5a8-47ef-974f-f637a4d71629",
   "metadata": {},
   "source": [
    "-------------------------------------------------------------Regular expression-------------------------------------------------------------------------"
   ]
  },
  {
   "cell_type": "code",
   "execution_count": null,
   "id": "1c046066-3fe7-44bd-8b93-b399b3b1a35b",
   "metadata": {},
   "outputs": [],
   "source": []
  }
 ],
 "metadata": {
  "kernelspec": {
   "display_name": "Python 3 (ipykernel)",
   "language": "python",
   "name": "python3"
  },
  "language_info": {
   "codemirror_mode": {
    "name": "ipython",
    "version": 3
   },
   "file_extension": ".py",
   "mimetype": "text/x-python",
   "name": "python",
   "nbconvert_exporter": "python",
   "pygments_lexer": "ipython3",
   "version": "3.12.4"
  }
 },
 "nbformat": 4,
 "nbformat_minor": 5
}
